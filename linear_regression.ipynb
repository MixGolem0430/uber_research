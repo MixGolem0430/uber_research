{
 "cells": [
  {
   "cell_type": "markdown",
   "id": "375c81f9-9841-4a9f-bd98-0329eff8fbfd",
   "metadata": {
    "tags": []
   },
   "source": [
    "# 0. Test"
   ]
  },
  {
   "cell_type": "markdown",
   "id": "2ed3f565-fec8-4850-aed4-14993d15e5bb",
   "metadata": {
    "tags": []
   },
   "source": [
    "## -1. Data preparing"
   ]
  },
  {
   "cell_type": "code",
   "execution_count": 30,
   "id": "9f5aa674-e95f-4ede-84d0-4992fc035123",
   "metadata": {
    "tags": []
   },
   "outputs": [],
   "source": [
    "import os\n",
    "import statsmodels.api as sm     # install statsmodels if not installed\n",
    "import statsmodels.formula.api as smf\n",
    "import random\n",
    "from tqdm import tqdm\n",
    "import pandas as pd\n",
    "import numpy as np\n",
    "from datetime import datetime as dt\n",
    "from datetime import timedelta\n",
    "\n",
    "random.seed(76019367)"
   ]
  },
  {
   "cell_type": "code",
   "execution_count": 7,
   "id": "f8aadbb4-c98e-4032-b2a7-31e510a26e76",
   "metadata": {},
   "outputs": [
    {
     "data": {
      "text/plain": [
       "['y1901.csv',\n",
       " 'y1902.csv',\n",
       " 'y1903.csv',\n",
       " 'y1904.csv',\n",
       " 'y1905.csv',\n",
       " 'y1906.csv',\n",
       " 'y1907.csv',\n",
       " 'y1908.csv',\n",
       " 'y1909.csv',\n",
       " 'y1910.csv',\n",
       " 'y1911.csv',\n",
       " 'y1912.csv',\n",
       " 'y2001.csv',\n",
       " 'y2002.csv',\n",
       " 'y2003.csv',\n",
       " 'y2004.csv',\n",
       " 'y2005.csv',\n",
       " 'y2006.csv',\n",
       " 'y2007.csv',\n",
       " 'y2008.csv',\n",
       " 'y2009.csv',\n",
       " 'y2010.csv',\n",
       " 'y2011.csv',\n",
       " 'y2012.csv',\n",
       " 'y2101.csv',\n",
       " 'y2102.csv',\n",
       " 'y2103.csv',\n",
       " 'y2104.csv',\n",
       " 'y2105.csv',\n",
       " 'y2106.csv',\n",
       " 'y2107.csv',\n",
       " 'y2108.csv',\n",
       " 'y2109.csv',\n",
       " 'y2110.csv',\n",
       " 'y2111.csv',\n",
       " 'y2112.csv',\n",
       " 'y2201.csv',\n",
       " 'y2202.csv',\n",
       " 'y2203.csv',\n",
       " 'y2204.csv',\n",
       " 'y2205.csv',\n",
       " 'y2206.csv',\n",
       " 'y2207.csv',\n",
       " 'y2208.csv',\n",
       " 'y2209.csv',\n",
       " 'y2210.csv',\n",
       " 'y2211.csv',\n",
       " 'y2212.csv']"
      ]
     },
     "execution_count": 7,
     "metadata": {},
     "output_type": "execute_result"
    }
   ],
   "source": [
    "file_list = os.listdir('D:/Working_Place/new_uber/data/data_processed')\n",
    "file_list.remove('.ipynb_checkpoints')\n",
    "file_list"
   ]
  },
  {
   "cell_type": "code",
   "execution_count": 17,
   "id": "1a903f4d-9880-49ab-98bc-d642c8785621",
   "metadata": {},
   "outputs": [
    {
     "name": "stderr",
     "output_type": "stream",
     "text": [
      "100%|██████████████████████████████████████████████████████████████████████████████████| 48/48 [05:31<00:00,  6.90s/it]\n"
     ]
    }
   ],
   "source": [
    "data_samples = []\n",
    "for file in tqdm(file_list):\n",
    "    each_data = pd.read_csv('D:/Working_Place/new_uber/data/data_processed/'+file,index_col=0)\n",
    "    each_data_sampled = each_data.sample(frac=0.01)\n",
    "    data_samples.append(each_data_sampled)\n",
    "    del each_data\n",
    "    del each_data_sampled"
   ]
  },
  {
   "cell_type": "code",
   "execution_count": 18,
   "id": "e0b57d35-a18a-421b-b3f4-8140c57302f7",
   "metadata": {},
   "outputs": [
    {
     "data": {
      "text/html": [
       "<div>\n",
       "<style scoped>\n",
       "    .dataframe tbody tr th:only-of-type {\n",
       "        vertical-align: middle;\n",
       "    }\n",
       "\n",
       "    .dataframe tbody tr th {\n",
       "        vertical-align: top;\n",
       "    }\n",
       "\n",
       "    .dataframe thead th {\n",
       "        text-align: right;\n",
       "    }\n",
       "</style>\n",
       "<table border=\"1\" class=\"dataframe\">\n",
       "  <thead>\n",
       "    <tr style=\"text-align: right;\">\n",
       "      <th></th>\n",
       "      <th>VendorID</th>\n",
       "      <th>tpep_pickup_datetime</th>\n",
       "      <th>tpep_dropoff_datetime</th>\n",
       "      <th>passenger_count</th>\n",
       "      <th>trip_distance</th>\n",
       "      <th>RatecodeID</th>\n",
       "      <th>store_and_fwd_flag</th>\n",
       "      <th>PULocationID</th>\n",
       "      <th>DOLocationID</th>\n",
       "      <th>payment_type</th>\n",
       "      <th>fare_amount</th>\n",
       "      <th>extra</th>\n",
       "      <th>mta_tax</th>\n",
       "      <th>tip_amount</th>\n",
       "      <th>tolls_amount</th>\n",
       "      <th>improvement_surcharge</th>\n",
       "      <th>total_amount</th>\n",
       "      <th>congestion_surcharge</th>\n",
       "      <th>airport_fee</th>\n",
       "      <th>average_speed</th>\n",
       "    </tr>\n",
       "  </thead>\n",
       "  <tbody>\n",
       "    <tr>\n",
       "      <th>4004250</th>\n",
       "      <td>2</td>\n",
       "      <td>2019-01-17 15:13:10</td>\n",
       "      <td>2019-01-17 16:19:34</td>\n",
       "      <td>1.0</td>\n",
       "      <td>19.68</td>\n",
       "      <td>1.0</td>\n",
       "      <td>N</td>\n",
       "      <td>231</td>\n",
       "      <td>252</td>\n",
       "      <td>1</td>\n",
       "      <td>58.5</td>\n",
       "      <td>0.0</td>\n",
       "      <td>0.5</td>\n",
       "      <td>0.00</td>\n",
       "      <td>5.76</td>\n",
       "      <td>0.3</td>\n",
       "      <td>65.06</td>\n",
       "      <td>0.0</td>\n",
       "      <td>0.0</td>\n",
       "      <td>17.783133</td>\n",
       "    </tr>\n",
       "    <tr>\n",
       "      <th>1138201</th>\n",
       "      <td>2</td>\n",
       "      <td>2019-01-06 10:44:51</td>\n",
       "      <td>2019-01-06 10:56:08</td>\n",
       "      <td>1.0</td>\n",
       "      <td>1.96</td>\n",
       "      <td>1.0</td>\n",
       "      <td>N</td>\n",
       "      <td>68</td>\n",
       "      <td>142</td>\n",
       "      <td>1</td>\n",
       "      <td>9.5</td>\n",
       "      <td>0.0</td>\n",
       "      <td>0.5</td>\n",
       "      <td>1.00</td>\n",
       "      <td>0.00</td>\n",
       "      <td>0.3</td>\n",
       "      <td>11.30</td>\n",
       "      <td>0.0</td>\n",
       "      <td>0.0</td>\n",
       "      <td>10.422452</td>\n",
       "    </tr>\n",
       "    <tr>\n",
       "      <th>5165513</th>\n",
       "      <td>1</td>\n",
       "      <td>2019-01-22 15:15:32</td>\n",
       "      <td>2019-01-22 15:23:33</td>\n",
       "      <td>1.0</td>\n",
       "      <td>1.00</td>\n",
       "      <td>1.0</td>\n",
       "      <td>N</td>\n",
       "      <td>263</td>\n",
       "      <td>141</td>\n",
       "      <td>2</td>\n",
       "      <td>7.0</td>\n",
       "      <td>0.0</td>\n",
       "      <td>0.5</td>\n",
       "      <td>0.00</td>\n",
       "      <td>0.00</td>\n",
       "      <td>0.3</td>\n",
       "      <td>7.80</td>\n",
       "      <td>0.0</td>\n",
       "      <td>0.0</td>\n",
       "      <td>7.484407</td>\n",
       "    </tr>\n",
       "    <tr>\n",
       "      <th>4140154</th>\n",
       "      <td>2</td>\n",
       "      <td>2019-01-17 23:58:28</td>\n",
       "      <td>2019-01-18 00:19:54</td>\n",
       "      <td>1.0</td>\n",
       "      <td>4.35</td>\n",
       "      <td>1.0</td>\n",
       "      <td>N</td>\n",
       "      <td>236</td>\n",
       "      <td>226</td>\n",
       "      <td>2</td>\n",
       "      <td>17.5</td>\n",
       "      <td>0.5</td>\n",
       "      <td>0.5</td>\n",
       "      <td>0.00</td>\n",
       "      <td>0.00</td>\n",
       "      <td>0.3</td>\n",
       "      <td>18.80</td>\n",
       "      <td>0.0</td>\n",
       "      <td>0.0</td>\n",
       "      <td>12.177294</td>\n",
       "    </tr>\n",
       "    <tr>\n",
       "      <th>6075414</th>\n",
       "      <td>2</td>\n",
       "      <td>2019-01-25 21:22:49</td>\n",
       "      <td>2019-01-25 21:46:33</td>\n",
       "      <td>1.0</td>\n",
       "      <td>3.27</td>\n",
       "      <td>1.0</td>\n",
       "      <td>N</td>\n",
       "      <td>79</td>\n",
       "      <td>141</td>\n",
       "      <td>1</td>\n",
       "      <td>17.0</td>\n",
       "      <td>0.5</td>\n",
       "      <td>0.5</td>\n",
       "      <td>3.66</td>\n",
       "      <td>0.00</td>\n",
       "      <td>0.3</td>\n",
       "      <td>21.96</td>\n",
       "      <td>0.0</td>\n",
       "      <td>0.0</td>\n",
       "      <td>8.266854</td>\n",
       "    </tr>\n",
       "  </tbody>\n",
       "</table>\n",
       "</div>"
      ],
      "text/plain": [
       "         VendorID tpep_pickup_datetime tpep_dropoff_datetime  passenger_count  \\\n",
       "4004250         2  2019-01-17 15:13:10   2019-01-17 16:19:34              1.0   \n",
       "1138201         2  2019-01-06 10:44:51   2019-01-06 10:56:08              1.0   \n",
       "5165513         1  2019-01-22 15:15:32   2019-01-22 15:23:33              1.0   \n",
       "4140154         2  2019-01-17 23:58:28   2019-01-18 00:19:54              1.0   \n",
       "6075414         2  2019-01-25 21:22:49   2019-01-25 21:46:33              1.0   \n",
       "\n",
       "         trip_distance  RatecodeID store_and_fwd_flag  PULocationID  \\\n",
       "4004250          19.68         1.0                  N           231   \n",
       "1138201           1.96         1.0                  N            68   \n",
       "5165513           1.00         1.0                  N           263   \n",
       "4140154           4.35         1.0                  N           236   \n",
       "6075414           3.27         1.0                  N            79   \n",
       "\n",
       "         DOLocationID  payment_type  fare_amount  extra  mta_tax  tip_amount  \\\n",
       "4004250           252             1         58.5    0.0      0.5        0.00   \n",
       "1138201           142             1          9.5    0.0      0.5        1.00   \n",
       "5165513           141             2          7.0    0.0      0.5        0.00   \n",
       "4140154           226             2         17.5    0.5      0.5        0.00   \n",
       "6075414           141             1         17.0    0.5      0.5        3.66   \n",
       "\n",
       "         tolls_amount  improvement_surcharge  total_amount  \\\n",
       "4004250          5.76                    0.3         65.06   \n",
       "1138201          0.00                    0.3         11.30   \n",
       "5165513          0.00                    0.3          7.80   \n",
       "4140154          0.00                    0.3         18.80   \n",
       "6075414          0.00                    0.3         21.96   \n",
       "\n",
       "         congestion_surcharge  airport_fee  average_speed  \n",
       "4004250                   0.0          0.0      17.783133  \n",
       "1138201                   0.0          0.0      10.422452  \n",
       "5165513                   0.0          0.0       7.484407  \n",
       "4140154                   0.0          0.0      12.177294  \n",
       "6075414                   0.0          0.0       8.266854  "
      ]
     },
     "execution_count": 18,
     "metadata": {},
     "output_type": "execute_result"
    }
   ],
   "source": [
    "data_sample = pd.concat(data_samples)\n",
    "data_sample.head()"
   ]
  },
  {
   "cell_type": "code",
   "execution_count": 19,
   "id": "d55f7baa-9e1a-41a2-9a67-497a94066df4",
   "metadata": {},
   "outputs": [
    {
     "data": {
      "text/plain": [
       "(1592429,\n",
       " Index(['VendorID', 'tpep_pickup_datetime', 'tpep_dropoff_datetime',\n",
       "        'passenger_count', 'trip_distance', 'RatecodeID', 'store_and_fwd_flag',\n",
       "        'PULocationID', 'DOLocationID', 'payment_type', 'fare_amount', 'extra',\n",
       "        'mta_tax', 'tip_amount', 'tolls_amount', 'improvement_surcharge',\n",
       "        'total_amount', 'congestion_surcharge', 'airport_fee', 'average_speed'],\n",
       "       dtype='object'))"
      ]
     },
     "execution_count": 19,
     "metadata": {},
     "output_type": "execute_result"
    }
   ],
   "source": [
    "len(data_sample),data_sample.columns"
   ]
  },
  {
   "cell_type": "markdown",
   "id": "e6c62931-b45a-471b-b0c8-cc591892a290",
   "metadata": {},
   "source": [
    "## -2. Tipping behavior according to various factors"
   ]
  },
  {
   "cell_type": "code",
   "execution_count": 38,
   "id": "36f8250f-4369-4388-98f2-d472fd0f63a7",
   "metadata": {},
   "outputs": [],
   "source": [
    "data_sample['tpep_pickup_datetime']=data_sample['tpep_pickup_datetime'].apply(lambda x:dt.strptime(x,'%Y-%m-%d %H:%M:%S'))\n",
    "data_sample['tpep_dropoff_datetime']=data_sample['tpep_dropoff_datetime'].apply(lambda x:dt.strptime(x,'%Y-%m-%d %H:%M:%S'))"
   ]
  },
  {
   "cell_type": "code",
   "execution_count": 49,
   "id": "ebd00bc9-23f9-4028-a668-6e4965ff072c",
   "metadata": {},
   "outputs": [
    {
     "data": {
      "text/plain": [
       "<AxesSubplot:xlabel='tpep_pickup_datetime'>"
      ]
     },
     "execution_count": 49,
     "metadata": {},
     "output_type": "execute_result"
    },
    {
     "data": {
      "image/png": "[encoded data removed]",
      "text/plain": [
       "<Figure size 640x480 with 1 Axes>"
      ]
     },
     "metadata": {},
     "output_type": "display_data"
    }
   ],
   "source": [
    "data_sample.groupby(data_sample.tpep_pickup_datetime.dt.year).agg({'tip_amount':['count','mean','var','min','max']})[('tip_amount','mean')].plot(kind='bar')"
   ]
  },
  {
   "cell_type": "code",
   "execution_count": 50,
   "id": "d1e605f6-c73a-4189-8360-8709c526fccf",
   "metadata": {},
   "outputs": [
    {
     "data": {
      "text/plain": [
       "<AxesSubplot:xlabel='tpep_pickup_datetime'>"
      ]
     },
     "execution_count": 50,
     "metadata": {},
     "output_type": "execute_result"
    },
    {
     "data": {
      "image/png": "[encoded data removed]",
      "text/plain": [
       "<Figure size 640x480 with 1 Axes>"
      ]
     },
     "metadata": {},
     "output_type": "display_data"
    }
   ],
   "source": [
    "data_sample.groupby(data_sample.tpep_pickup_datetime.dt.month).agg({'tip_amount':['count','mean','var','min','max']})[('tip_amount','mean')].plot(kind='bar')"
   ]
  },
  {
   "cell_type": "code",
   "execution_count": 52,
   "id": "1ebfafbd-24b4-4d00-aa95-2443cd68f8ad",
   "metadata": {},
   "outputs": [
    {
     "data": {
      "text/plain": [
       "<AxesSubplot:xlabel='tpep_pickup_datetime'>"
      ]
     },
     "execution_count": 52,
     "metadata": {},
     "output_type": "execute_result"
    },
    {
     "data": {
      "image/png": "[encoded data removed]",
      "text/plain": [
       "<Figure size 640x480 with 1 Axes>"
      ]
     },
     "metadata": {},
     "output_type": "display_data"
    }
   ],
   "source": [
    "data_sample.groupby(data_sample.tpep_pickup_datetime.dt.weekday).agg({'tip_amount':['count','mean','var','min','max']})[('tip_amount','mean')].plot(kind='bar')"
   ]
  },
  {
   "cell_type": "code",
   "execution_count": 55,
   "id": "4f68b4c5-29e2-4444-bcf3-f29da6650da7",
   "metadata": {},
   "outputs": [
    {
     "data": {
      "text/plain": [
       "<AxesSubplot:xlabel='tpep_pickup_datetime'>"
      ]
     },
     "execution_count": 55,
     "metadata": {},
     "output_type": "execute_result"
    },
    {
     "data": {
      "image/png": "[encoded data removed]",
      "text/plain": [
       "<Figure size 640x480 with 1 Axes>"
      ]
     },
     "metadata": {},
     "output_type": "display_data"
    }
   ],
   "source": [
    "data_sample.groupby(data_sample.tpep_pickup_datetime.dt.hour).agg({'tip_amount':['count','mean','var','min','max']})[('tip_amount','mean')].plot(kind='bar')"
   ]
  },
  {
   "cell_type": "code",
   "execution_count": null,
   "id": "8287558b-1936-42b0-a1a4-3d5c837e7c25",
   "metadata": {},
   "outputs": [],
   "source": []
  }
 ],
 "metadata": {
  "kernelspec": {
   "display_name": "new_uber",
   "language": "python",
   "name": "new_uber"
  },
  "language_info": {
   "codemirror_mode": {
    "name": "ipython",
    "version": 3
   },
   "file_extension": ".py",
   "mimetype": "text/x-python",
   "name": "python",
   "nbconvert_exporter": "python",
   "pygments_lexer": "ipython3",
   "version": "3.7.1"
  }
 },
 "nbformat": 4,
 "nbformat_minor": 5
}

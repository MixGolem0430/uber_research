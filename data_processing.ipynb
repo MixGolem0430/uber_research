{
 "cells": [
  {
   "cell_type": "markdown",
   "id": "4a2b51d1",
   "metadata": {},
   "source": [
    "# 1. Data checking"
   ]
  },
  {
   "cell_type": "code",
   "execution_count": 1,
   "id": "cfd2fe91",
   "metadata": {},
   "outputs": [],
   "source": [
    "import pandas as pd\n",
    "import numpy as np\n",
    "import matplotlib.pyplot as plt\n",
    "import decimal\n",
    "import math\n",
    "from datetime import datetime as dt\n",
    "from datetime import timedelta\n",
    "from tqdm import tqdm"
   ]
  },
  {
   "cell_type": "markdown",
   "id": "70b5fcbd",
   "metadata": {
    "jp-MarkdownHeadingCollapsed": true,
    "tags": []
   },
   "source": [
    "## 1) yellow trip data from 2019 Jan"
   ]
  },
  {
   "cell_type": "code",
   "execution_count": null,
   "id": "ca4651f3",
   "metadata": {},
   "outputs": [],
   "source": [
    "y1901 = pd.read_parquet(\"D:/Working_Place/new_uber/data/yellow_tripdata_2019-01.parquet\")\n",
    "y1901.head(10)"
   ]
  },
  {
   "cell_type": "code",
   "execution_count": null,
   "id": "25b34af3",
   "metadata": {},
   "outputs": [],
   "source": [
    "print(len(y1901))"
   ]
  },
  {
   "cell_type": "code",
   "execution_count": null,
   "id": "d6b98676",
   "metadata": {},
   "outputs": [],
   "source": [
    "print(y1901.columns)\n",
    "##let's do it columns by columns"
   ]
  },
  {
   "cell_type": "code",
   "execution_count": null,
   "id": "94c1d04e",
   "metadata": {},
   "outputs": [],
   "source": [
    "len(y1901.columns)"
   ]
  },
  {
   "cell_type": "markdown",
   "id": "29f6564a",
   "metadata": {},
   "source": [
    "### -1. VendorID"
   ]
  },
  {
   "cell_type": "code",
   "execution_count": null,
   "id": "8031b47d",
   "metadata": {},
   "outputs": [],
   "source": [
    "print(y1901.VendorID.unique())"
   ]
  },
  {
   "cell_type": "markdown",
   "id": "74eaf05e",
   "metadata": {},
   "source": [
    "What is 4,5...? But it doesn't matter"
   ]
  },
  {
   "cell_type": "markdown",
   "id": "d12f1c71",
   "metadata": {},
   "source": [
    "### -2. pickup & dropoff datetime"
   ]
  },
  {
   "cell_type": "code",
   "execution_count": null,
   "id": "edee27ae",
   "metadata": {},
   "outputs": [],
   "source": [
    "y1901[y1901.tpep_pickup_datetime.dt.hour==1]"
   ]
  },
  {
   "cell_type": "code",
   "execution_count": null,
   "id": "01a475e5",
   "metadata": {},
   "outputs": [],
   "source": [
    "y1901.tpep_pickup_datetime.dt.year.unique()"
   ]
  },
  {
   "cell_type": "code",
   "execution_count": null,
   "id": "9d4ba880",
   "metadata": {},
   "outputs": [],
   "source": [
    "y1901[(y1901.tpep_pickup_datetime.dt.year==2018)|\n",
    "      (y1901.tpep_pickup_datetime.dt.year==2003)|\n",
    "     (y1901.tpep_pickup_datetime.dt.year==2008)|\n",
    "     (y1901.tpep_pickup_datetime.dt.year==2009)|\n",
    "     (y1901.tpep_pickup_datetime.dt.year==2001)|\n",
    "     (y1901.tpep_pickup_datetime.dt.year==2088)]"
   ]
  },
  {
   "cell_type": "code",
   "execution_count": null,
   "id": "343ac438",
   "metadata": {},
   "outputs": [],
   "source": [
    "y1901 = y1901[y1901.tpep_pickup_datetime.dt.year==2019]"
   ]
  },
  {
   "cell_type": "code",
   "execution_count": null,
   "id": "98b53ec4",
   "metadata": {},
   "outputs": [],
   "source": [
    "y1901.tpep_pickup_datetime.dt.month.unique()\n",
    "##It is data for January!!"
   ]
  },
  {
   "cell_type": "code",
   "execution_count": null,
   "id": "1825a2b2",
   "metadata": {},
   "outputs": [],
   "source": [
    "y1901[y1901.tpep_pickup_datetime.dt.month!=1]"
   ]
  },
  {
   "cell_type": "code",
   "execution_count": null,
   "id": "5d98bccf",
   "metadata": {},
   "outputs": [],
   "source": [
    "y1901 = y1901[y1901.tpep_pickup_datetime.dt.month==1]\n",
    "len(y1901)"
   ]
  },
  {
   "cell_type": "code",
   "execution_count": null,
   "id": "aa06655f",
   "metadata": {},
   "outputs": [],
   "source": [
    "y1901.tpep_dropoff_datetime.dt.year.unique()"
   ]
  },
  {
   "cell_type": "code",
   "execution_count": null,
   "id": "b63496c1",
   "metadata": {},
   "outputs": [],
   "source": [
    "y1901[y1901.tpep_dropoff_datetime.dt.year==2018]"
   ]
  },
  {
   "cell_type": "code",
   "execution_count": null,
   "id": "178f7764",
   "metadata": {},
   "outputs": [],
   "source": [
    "y1901 = y1901[y1901.tpep_dropoff_datetime.dt.year==2019]\n",
    "len(y1901)"
   ]
  },
  {
   "cell_type": "code",
   "execution_count": null,
   "id": "24c45918",
   "metadata": {},
   "outputs": [],
   "source": [
    "y1901.tpep_dropoff_datetime.dt.month.unique()"
   ]
  },
  {
   "cell_type": "code",
   "execution_count": null,
   "id": "96db3417",
   "metadata": {},
   "outputs": [],
   "source": [
    "y1901[y1901.tpep_dropoff_datetime.dt.month==2]\n",
    "##It can be because someone pickup January 31st."
   ]
  },
  {
   "cell_type": "code",
   "execution_count": null,
   "id": "c7ebb7eb",
   "metadata": {},
   "outputs": [],
   "source": [
    "y1901=y1901[y1901.tpep_dropoff_datetime>y1901.tpep_pickup_datetime]"
   ]
  },
  {
   "cell_type": "markdown",
   "id": "a0c66df1",
   "metadata": {},
   "source": [
    "### -3. passenger_count"
   ]
  },
  {
   "cell_type": "code",
   "execution_count": null,
   "id": "97aa8f76",
   "metadata": {},
   "outputs": [],
   "source": [
    "y1901.passenger_count.unique()"
   ]
  },
  {
   "cell_type": "code",
   "execution_count": null,
   "id": "9fe52b4f",
   "metadata": {},
   "outputs": [],
   "source": [
    "y1901[y1901.passenger_count.isna()]"
   ]
  },
  {
   "cell_type": "code",
   "execution_count": null,
   "id": "bc6f7753",
   "metadata": {},
   "outputs": [],
   "source": [
    "y1901[(y1901.passenger_count.isna()) | (y1901.passenger_count==0)]"
   ]
  },
  {
   "cell_type": "code",
   "execution_count": null,
   "id": "6e7f0804",
   "metadata": {},
   "outputs": [],
   "source": [
    "y1901 = y1901[(y1901.passenger_count.notnull()) & (y1901.passenger_count!=0)]\n",
    "len(y1901)"
   ]
  },
  {
   "cell_type": "markdown",
   "id": "8593a3b1",
   "metadata": {},
   "source": [
    "### -4. trip_distance"
   ]
  },
  {
   "cell_type": "code",
   "execution_count": null,
   "id": "e2c2f26c",
   "metadata": {},
   "outputs": [],
   "source": [
    "y1901.trip_distance.plot()\n",
    "plt.show()"
   ]
  },
  {
   "cell_type": "code",
   "execution_count": null,
   "id": "3f977a4a",
   "metadata": {},
   "outputs": [],
   "source": [
    "y1901.trip_distance.max(),y1901.trip_distance.min()"
   ]
  },
  {
   "cell_type": "code",
   "execution_count": null,
   "id": "56e3f18c",
   "metadata": {},
   "outputs": [],
   "source": [
    "y1901[y1901.trip_distance==831.8]\n",
    "##this should be erased by speed columns"
   ]
  },
  {
   "cell_type": "code",
   "execution_count": null,
   "id": "8ed4f027",
   "metadata": {},
   "outputs": [],
   "source": [
    "y1901[y1901.trip_distance==0.0]"
   ]
  },
  {
   "cell_type": "code",
   "execution_count": null,
   "id": "04045783",
   "metadata": {},
   "outputs": [],
   "source": [
    "y1901 = y1901[y1901.trip_distance!=0.0]\n",
    "print(len(y1901))"
   ]
  },
  {
   "cell_type": "code",
   "execution_count": null,
   "id": "da065466",
   "metadata": {},
   "outputs": [],
   "source": [
    "y1901['trip_distance'] = y1901['trip_distance']*1.61\n",
    "y1901.head()"
   ]
  },
  {
   "cell_type": "markdown",
   "id": "ee6d5b7d",
   "metadata": {},
   "source": [
    "### -5. RatecodeID"
   ]
  },
  {
   "cell_type": "code",
   "execution_count": null,
   "id": "666daeb7",
   "metadata": {},
   "outputs": [],
   "source": [
    "y1901.RatecodeID.unique()"
   ]
  },
  {
   "cell_type": "code",
   "execution_count": null,
   "id": "f2b07193",
   "metadata": {},
   "outputs": [],
   "source": [
    "y1901[y1901.RatecodeID==99.0]"
   ]
  },
  {
   "cell_type": "markdown",
   "id": "e73f2332",
   "metadata": {},
   "source": [
    "### -6. Payment_type"
   ]
  },
  {
   "cell_type": "code",
   "execution_count": null,
   "id": "8defc8be",
   "metadata": {},
   "outputs": [],
   "source": [
    "y1901.payment_type.unique()"
   ]
  },
  {
   "cell_type": "markdown",
   "id": "b8fe02f4",
   "metadata": {},
   "source": [
    "### -7. Fare_amount"
   ]
  },
  {
   "cell_type": "code",
   "execution_count": null,
   "id": "17bf2a44",
   "metadata": {},
   "outputs": [],
   "source": [
    "y1901.fare_amount.plot()\n",
    "plt.show()"
   ]
  },
  {
   "cell_type": "code",
   "execution_count": null,
   "id": "3840f792",
   "metadata": {},
   "outputs": [],
   "source": [
    "y1901[y1901.fare_amount>600000]"
   ]
  },
  {
   "cell_type": "code",
   "execution_count": null,
   "id": "7b2d3a48",
   "metadata": {},
   "outputs": [],
   "source": [
    "y1901 = y1901[y1901.fare_amount<600000]"
   ]
  },
  {
   "cell_type": "code",
   "execution_count": null,
   "id": "6caa44c7",
   "metadata": {},
   "outputs": [],
   "source": [
    "y1901.fare_amount.plot()"
   ]
  },
  {
   "cell_type": "code",
   "execution_count": null,
   "id": "2c25c5b6",
   "metadata": {},
   "outputs": [],
   "source": [
    "y1901[y1901.fare_amount>2000]"
   ]
  },
  {
   "cell_type": "code",
   "execution_count": null,
   "id": "9f357daf",
   "metadata": {},
   "outputs": [],
   "source": [
    "y1901[y1901.fare_amount<0]"
   ]
  },
  {
   "cell_type": "code",
   "execution_count": null,
   "id": "34e79403",
   "metadata": {},
   "outputs": [],
   "source": [
    "y1901 = y1901[y1901.fare_amount>=0]"
   ]
  },
  {
   "cell_type": "markdown",
   "id": "99c1800c",
   "metadata": {},
   "source": [
    "### -8. tip_amount\n",
    "What I want to have"
   ]
  },
  {
   "cell_type": "code",
   "execution_count": null,
   "id": "c1d76a10",
   "metadata": {},
   "outputs": [],
   "source": [
    "y1901.tip_amount.plot()"
   ]
  },
  {
   "cell_type": "code",
   "execution_count": null,
   "id": "2daf9376",
   "metadata": {},
   "outputs": [],
   "source": [
    "y1901[y1901.tip_amount==0]"
   ]
  },
  {
   "cell_type": "code",
   "execution_count": null,
   "id": "d55928fe",
   "metadata": {},
   "outputs": [],
   "source": [
    "y1901[y1901.tip_amount!=0]"
   ]
  },
  {
   "cell_type": "markdown",
   "id": "74e5807b",
   "metadata": {},
   "source": [
    "### -9. total_amount\n",
    "is it really 'total'?"
   ]
  },
  {
   "cell_type": "code",
   "execution_count": null,
   "id": "66443a09",
   "metadata": {},
   "outputs": [],
   "source": [
    "y1901[y1901.fare_amount + y1901.extra + y1901.mta_tax + y1901.tip_amount + y1901.tolls_amount + y1901.improvement_surcharge!=y1901.total_amount]"
   ]
  },
  {
   "cell_type": "code",
   "execution_count": null,
   "id": "b4324673",
   "metadata": {},
   "outputs": [],
   "source": [
    "not_total_list = y1901[y1901.fare_amount + y1901.extra + y1901.mta_tax + y1901.tip_amount + y1901.tolls_amount + y1901.improvement_surcharge != y1901.total_amount].index\n",
    "not_total_list[:10]"
   ]
  },
  {
   "cell_type": "code",
   "execution_count": null,
   "id": "bfe345a9",
   "metadata": {},
   "outputs": [],
   "source": [
    "not_total_list_index=[]\n",
    "for i in tqdm(not_total_list):\n",
    "    if not math.isclose(y1901.fare_amount[i]+y1901.extra[i]+y1901.mta_tax[i]+y1901.tip_amount[i]+y1901.tolls_amount[i]+y1901.improvement_surcharge[i],y1901.total_amount[i]):\n",
    "        not_total_list_index.append(i)\n",
    "print(len(not_total_list_index))"
   ]
  },
  {
   "cell_type": "code",
   "execution_count": null,
   "id": "40253dd9",
   "metadata": {},
   "outputs": [],
   "source": [
    "y1901.drop(not_total_list_index,axis=0,inplace=True)\n",
    "print(len(y1901))"
   ]
  },
  {
   "cell_type": "code",
   "execution_count": null,
   "id": "b38018db",
   "metadata": {},
   "outputs": [],
   "source": [
    "y1901.to_csv(\"D:/Working_Place/new_uber/data/data_processed/y1901.csv\")"
   ]
  },
  {
   "cell_type": "markdown",
   "id": "9fb0cb8d",
   "metadata": {},
   "source": [
    "### -10. Congestion_surcharge & airport_fee"
   ]
  },
  {
   "cell_type": "code",
   "execution_count": null,
   "id": "a17138c8",
   "metadata": {},
   "outputs": [],
   "source": [
    "y1901[y1901.congestion_surcharge.notnull()]"
   ]
  },
  {
   "cell_type": "code",
   "execution_count": null,
   "id": "92ce03f3",
   "metadata": {},
   "outputs": [],
   "source": [
    "y1901[(y1901.congestion_surcharge.notnull())&(y1901.congestion_surcharge!=0)]"
   ]
  },
  {
   "cell_type": "code",
   "execution_count": null,
   "id": "7697ce27",
   "metadata": {},
   "outputs": [],
   "source": [
    "y1901['congestion_surcharge'] = y1901['congestion_surcharge'].fillna(0)"
   ]
  },
  {
   "cell_type": "code",
   "execution_count": null,
   "id": "b1e3b7f7",
   "metadata": {},
   "outputs": [],
   "source": [
    "y1901['airport_fee'] = y1901['airport_fee'].fillna(0)"
   ]
  },
  {
   "cell_type": "markdown",
   "id": "aa42a6e9",
   "metadata": {},
   "source": [
    "### -11. Average Speed"
   ]
  },
  {
   "cell_type": "code",
   "execution_count": null,
   "id": "4d2f58d6",
   "metadata": {},
   "outputs": [],
   "source": [
    "y1901.loc[68267,'tpep_dropoff_datetime']-y1901.loc[68267,'tpep_pickup_datetime']>timedelta(1)"
   ]
  },
  {
   "cell_type": "code",
   "execution_count": null,
   "id": "1e6dcb8d",
   "metadata": {},
   "outputs": [],
   "source": [
    "y1901[(y1901.tpep_dropoff_datetime-y1901.tpep_pickup_datetime)>timedelta(hours=12)]"
   ]
  },
  {
   "cell_type": "code",
   "execution_count": null,
   "id": "723a2a12",
   "metadata": {},
   "outputs": [],
   "source": [
    "interval_time = y1901.loc[68267,'tpep_dropoff_datetime']-y1901.loc[68267,'tpep_pickup_datetime']\n",
    "interval_time.total_seconds()/60/60"
   ]
  },
  {
   "cell_type": "code",
   "execution_count": null,
   "id": "07b73cb9",
   "metadata": {},
   "outputs": [],
   "source": []
  },
  {
   "cell_type": "code",
   "execution_count": null,
   "id": "284c1731",
   "metadata": {},
   "outputs": [],
   "source": [
    "y1901['average_speed'] = y1901.apply(lambda x: x['trip_distance']/((x['tpep_dropoff_datetime']-x['tpep_pickup_datetime']).total_seconds()/60/60),axis=1)\n",
    "y1901"
   ]
  },
  {
   "cell_type": "code",
   "execution_count": null,
   "id": "5a42b96f",
   "metadata": {},
   "outputs": [],
   "source": [
    "y1901['average_speed'].plot()\n",
    "plt.show()"
   ]
  },
  {
   "cell_type": "code",
   "execution_count": null,
   "id": "1ecb2ae3",
   "metadata": {},
   "outputs": [],
   "source": [
    "y1901[y1901.average_speed>20000]"
   ]
  },
  {
   "cell_type": "code",
   "execution_count": null,
   "id": "3d0268c2",
   "metadata": {},
   "outputs": [],
   "source": [
    "y1901['average_speed'].describe()"
   ]
  },
  {
   "cell_type": "code",
   "execution_count": null,
   "id": "b13cfe01",
   "metadata": {},
   "outputs": [],
   "source": [
    "q1=y1901['average_speed'].quantile(0.25)\n",
    "q3=y1901['average_speed'].quantile(0.75)\n",
    "iqr = q3-q1\n",
    "len(y1901[(y1901.average_speed<(q3+1.5*iqr)) & (y1901.average_speed>(q1-1.5*iqr))])/len(y1901)"
   ]
  },
  {
   "cell_type": "code",
   "execution_count": null,
   "id": "8b3ffe76",
   "metadata": {},
   "outputs": [],
   "source": [
    "y1901 = y1901[(y1901.average_speed<(q3+1.5*iqr)) & (y1901.average_speed>(q1-1.5*iqr))]\n",
    "y1901.head()"
   ]
  },
  {
   "cell_type": "code",
   "execution_count": null,
   "id": "ad6233b1",
   "metadata": {},
   "outputs": [],
   "source": [
    "y1901.trip_distance.describe()"
   ]
  },
  {
   "cell_type": "code",
   "execution_count": null,
   "id": "58d1cda0",
   "metadata": {},
   "outputs": [],
   "source": [
    "y1901[y1901.trip_distance==3.445561e+02]"
   ]
  },
  {
   "cell_type": "code",
   "execution_count": null,
   "id": "4e719fb9",
   "metadata": {},
   "outputs": [],
   "source": [
    "y1901.to_csv('D:/Working_Place/new_uber/data/data_processed/y1901.csv')"
   ]
  },
  {
   "cell_type": "code",
   "execution_count": null,
   "id": "6e780d05",
   "metadata": {},
   "outputs": [],
   "source": [
    "y1901.columns"
   ]
  },
  {
   "cell_type": "code",
   "execution_count": null,
   "id": "5383ab34",
   "metadata": {},
   "outputs": [],
   "source": []
  },
  {
   "cell_type": "markdown",
   "id": "e638eead",
   "metadata": {},
   "source": [
    "# 2) Do it with all monthly data!"
   ]
  },
  {
   "cell_type": "code",
   "execution_count": 6,
   "id": "d5870eb0",
   "metadata": {},
   "outputs": [],
   "source": [
    "def dataprocessing(df,year,month):\n",
    "    print(\"I'm doing dataprocessing with {}-{} data\".format(year,month))\n",
    "    print(\"Original length : \", len(df))\n",
    "    ##1) column checking\n",
    "    if not (df.columns==['VendorID', 'tpep_pickup_datetime', 'tpep_dropoff_datetime',\n",
    "           'passenger_count', 'trip_distance', 'RatecodeID', 'store_and_fwd_flag',\n",
    "           'PULocationID', 'DOLocationID', 'payment_type', 'fare_amount', 'extra',\n",
    "           'mta_tax', 'tip_amount', 'tolls_amount', 'improvement_surcharge',\n",
    "           'total_amount', 'congestion_surcharge', 'airport_fee']).all():\n",
    "            print(\"The columns are different!\")\n",
    "            print(df.columns)\n",
    "            return df\n",
    "    else:\n",
    "        ##2) pickup/dropoff datetime\n",
    "        df1=df[(df.tpep_pickup_datetime.dt.year==year)&(df.tpep_pickup_datetime.dt.month==month)]\n",
    "        if month!=12:\n",
    "            df1=df1[df1.tpep_dropoff_datetime.dt.year==year]\n",
    "        df1=df1[df1.tpep_dropoff_datetime>df1.tpep_pickup_datetime]\n",
    "        print(\"After datetime processing : \", len(df1))\n",
    "            \n",
    "        ##3) passenger_count\n",
    "        df1 = df1[(df1.passenger_count.notnull()) & (df1.passenger_count>0)]\n",
    "        print(\"After passenger_count processing : \", len(df1))\n",
    "\n",
    "        ##4) trip_ditance\n",
    "        df1 = df1[df1.trip_distance>0.0]\n",
    "        print(\"After trip_distance processing : \", len(df1))\n",
    "\n",
    "        ##5) fare_amount\n",
    "        df1 = df1[df1.fare_amount>0]\n",
    "        print(\"After fare_amount processing : \", len(df1))\n",
    "\n",
    "        ##6) total_amount\n",
    "        df1.loc[:,'total_amount'] = df1.loc[:,'fare_amount':'improvement_surcharge'].sum(axis=1)\n",
    "        print(\"After total_amount processing : \", len(df1))\n",
    "        \n",
    "        ##7) congestion_surcharge\n",
    "        df1['congestion_surcharge'] = df1['congestion_surcharge'].fillna(0)\n",
    "        df1['airport_fee'] = df1['airport_fee'].fillna(0)\n",
    "        print(\"After congestion_surcharge and airport_fee processing : \", len(df1))\n",
    "        \n",
    "        ##8) average_speed\n",
    "        df1['average_speed'] = df1.apply(lambda x: x['trip_distance']/((x['tpep_dropoff_datetime']-x['tpep_pickup_datetime']).total_seconds()/60/60),axis=1)\n",
    "        q1=df1['average_speed'].quantile(0.25)\n",
    "        q3=df1['average_speed'].quantile(0.75)\n",
    "        iqr = q3-q1\n",
    "        df1 = df1[(df1.average_speed<(q3+1.5*iqr)) & (df1.average_speed>(q1-1.5*iqr))]\n",
    "        print(\"After average_speed processing : \", len(df1))\n",
    "        \n",
    "        yearname = str(year%2000)\n",
    "        if month<10:\n",
    "            monthname = \"0\"+str(month)\n",
    "        else:\n",
    "            monthname = str(month)\n",
    "        print(\"Saving to data_processed!\")\n",
    "        df1.to_csv('D:/Working_Place/new_uber/data/data_processed/y{}{}.csv'.format(yearname,monthname))\n",
    "        return df1"
   ]
  },
  {
   "cell_type": "markdown",
   "id": "80ebfaa7",
   "metadata": {
    "jp-MarkdownHeadingCollapsed": true,
    "tags": []
   },
   "source": [
    "## -1. test with 2019-02"
   ]
  },
  {
   "cell_type": "code",
   "execution_count": null,
   "id": "408ab736",
   "metadata": {},
   "outputs": [],
   "source": [
    "y1902 = pd.read_parquet(\"D:/Working_Place/new_uber/data/yellow_tripdata_2019-02.parquet\")\n",
    "print(len(y1902))\n",
    "y1902.head()\n"
   ]
  },
  {
   "cell_type": "code",
   "execution_count": null,
   "id": "a5d03d64",
   "metadata": {},
   "outputs": [],
   "source": [
    "y1902_processed = dataprocessing(y1902,2019,2)\n",
    "y1902_processed.head()"
   ]
  },
  {
   "cell_type": "code",
   "execution_count": null,
   "id": "e4cb1c95",
   "metadata": {},
   "outputs": [],
   "source": [
    "y1902.to_csv('D:/Working_Place/new_uber/data/data_processed/y1902.csv')"
   ]
  },
  {
   "cell_type": "markdown",
   "id": "5b9eb229",
   "metadata": {
    "jp-MarkdownHeadingCollapsed": true,
    "tags": []
   },
   "source": [
    "## -2. With all data"
   ]
  },
  {
   "cell_type": "code",
   "execution_count": null,
   "id": "b39510a0",
   "metadata": {},
   "outputs": [],
   "source": [
    "y1903 = pd.read_parquet(\"D:/Working_Place/new_uber/data/yellow_tripdata_2019-03.parquet\")\n",
    "y1904 = pd.read_parquet(\"D:/Working_Place/new_uber/data/yellow_tripdata_2019-04.parquet\")\n",
    "y1905 = pd.read_parquet(\"D:/Working_Place/new_uber/data/yellow_tripdata_2019-05.parquet\")\n",
    "y1906 = pd.read_parquet(\"D:/Working_Place/new_uber/data/yellow_tripdata_2019-06.parquet\")\n",
    "data_list = [(y1903,2019,3),(y1904,2019,4),(y1905,2019,5),(y1906,2019,6)]"
   ]
  },
  {
   "cell_type": "code",
   "execution_count": null,
   "id": "2e8bec30",
   "metadata": {},
   "outputs": [],
   "source": [
    "after_processing=[y1901,y1902]\n",
    "for i,j,k in tqdm(data_list):\n",
    "    after_processing.append(dataprocessing(i,j,k))"
   ]
  },
  {
   "cell_type": "code",
   "execution_count": null,
   "id": "47257080",
   "metadata": {},
   "outputs": [],
   "source": [
    "y1907 = pd.read_parquet(\"D:/Working_Place/new_uber/data/yellow_tripdata_2019-07.parquet\")\n",
    "y1908 = pd.read_parquet(\"D:/Working_Place/new_uber/data/yellow_tripdata_2019-08.parquet\")\n",
    "y1909 = pd.read_parquet(\"D:/Working_Place/new_uber/data/yellow_tripdata_2019-09.parquet\")\n",
    "y1910 = pd.read_parquet(\"D:/Working_Place/new_uber/data/yellow_tripdata_2019-10.parquet\")\n",
    "y1911 = pd.read_parquet(\"D:/Working_Place/new_uber/data/yellow_tripdata_2019-11.parquet\")\n",
    "y1912 = pd.read_parquet(\"D:/Working_Place/new_uber/data/yellow_tripdata_2019-12.parquet\")\n",
    "\n",
    "data_list = [(y1907,2019,7),(y1908,2019,8),(y1909,2019,9),(y1910,2019,10),(y1911,2019,11),(y1912,2019,12)]"
   ]
  },
  {
   "cell_type": "code",
   "execution_count": null,
   "id": "cfb6bd6d",
   "metadata": {},
   "outputs": [],
   "source": [
    "for i,j,k in tqdm(data_list):\n",
    "    after_processing.append(dataprocessing(i,j,k))"
   ]
  },
  {
   "cell_type": "markdown",
   "id": "f081e7cb-c8ca-42ad-89d9-223934a5dff6",
   "metadata": {},
   "source": [
    "## -3. Do it first of all"
   ]
  },
  {
   "cell_type": "code",
   "execution_count": null,
   "id": "fbb9031a-8cd9-46e2-b8e6-3b39da5c1b1a",
   "metadata": {},
   "outputs": [
    {
     "name": "stderr",
     "output_type": "stream",
     "text": [
      "  0%|                                                                                           | 0/12 [00:00<?, ?it/s]"
     ]
    },
    {
     "name": "stdout",
     "output_type": "stream",
     "text": [
      "I'm doing dataprocessing with 2019-10 data\n",
      "Original length :  7213891\n",
      "After datetime processing :  7208369\n",
      "After passenger_count processing :  7024665\n",
      "After trip_distance processing :  6962055\n",
      "After fare_amount processing :  6944809\n",
      "After total_amount processing :  6944809\n",
      "After congestion_surcharge and airport_fee processing :  6944809\n",
      "After average_speed processing :  6517735\n"
     ]
    },
    {
     "name": "stderr",
     "output_type": "stream",
     "text": [
      " 83%|████████████████████████████████████████████████████████████████████▎             | 10/12 [03:59<00:47, 23.92s/it]"
     ]
    },
    {
     "name": "stdout",
     "output_type": "stream",
     "text": [
      "Saving to data_processed!\n",
      "I'm doing dataprocessing with 2019-11 data\n",
      "Original length :  6878111\n",
      "After datetime processing :  6871823\n",
      "After passenger_count processing :  6695062\n",
      "After trip_distance processing :  6634130\n",
      "After fare_amount processing :  6616116\n",
      "After total_amount processing :  6616116\n",
      "After congestion_surcharge and airport_fee processing :  6616116\n",
      "After average_speed processing :  6218294\n"
     ]
    },
    {
     "name": "stderr",
     "output_type": "stream",
     "text": [
      " 92%|███████████████████████████████████████████████████████████████████████████▏      | 11/12 [07:46<00:49, 49.40s/it]"
     ]
    },
    {
     "name": "stdout",
     "output_type": "stream",
     "text": [
      "Saving to data_processed!\n",
      "I'm doing dataprocessing with 2019-12 data\n",
      "Original length :  6896317\n",
      "After datetime processing :  6891155\n",
      "After passenger_count processing :  6715356\n",
      "After trip_distance processing :  6652284\n",
      "After fare_amount processing :  6632351\n",
      "After total_amount processing :  6632351\n",
      "After congestion_surcharge and airport_fee processing :  6632351\n",
      "After average_speed processing :  6254378\n"
     ]
    },
    {
     "name": "stderr",
     "output_type": "stream",
     "text": [
      "100%|██████████████████████████████████████████████████████████████████████████████████| 12/12 [11:41<00:00, 58.44s/it]\n"
     ]
    },
    {
     "name": "stdout",
     "output_type": "stream",
     "text": [
      "Saving to data_processed!\n"
     ]
    },
    {
     "name": "stderr",
     "output_type": "stream",
     "text": [
      "  0%|                                                                                           | 0/12 [00:00<?, ?it/s]"
     ]
    },
    {
     "name": "stdout",
     "output_type": "stream",
     "text": [
      "I'm doing dataprocessing with 2020-1 data\n",
      "Original length :  6405008\n",
      "After datetime processing :  6400390\n",
      "After passenger_count processing :  6221159\n",
      "After trip_distance processing :  6159531\n",
      "After fare_amount processing :  6141057\n",
      "After total_amount processing :  6141057\n",
      "After congestion_surcharge and airport_fee processing :  6141057\n",
      "After average_speed processing :  5717669\n"
     ]
    },
    {
     "name": "stderr",
     "output_type": "stream",
     "text": [
      "  8%|██████▊                                                                           | 1/12 [03:32<38:53, 212.14s/it]"
     ]
    },
    {
     "name": "stdout",
     "output_type": "stream",
     "text": [
      "Saving to data_processed!\n",
      "I'm doing dataprocessing with 2020-2 data\n",
      "Original length :  6299367\n",
      "After datetime processing :  6295089\n",
      "After passenger_count processing :  6123052\n",
      "After trip_distance processing :  6068349\n",
      "After fare_amount processing :  6049237\n",
      "After total_amount processing :  6049237\n",
      "After congestion_surcharge and airport_fee processing :  6049237\n",
      "After average_speed processing :  5655888\n"
     ]
    },
    {
     "name": "stderr",
     "output_type": "stream",
     "text": [
      " 17%|█████████████▋                                                                    | 2/12 [06:59<34:53, 209.39s/it]"
     ]
    },
    {
     "name": "stdout",
     "output_type": "stream",
     "text": [
      "Saving to data_processed!\n",
      "I'm doing dataprocessing with 2020-3 data\n",
      "Original length :  3007687\n",
      "After datetime processing :  3005130\n",
      "After passenger_count processing :  2904177\n",
      "After trip_distance processing :  2875649\n",
      "After fare_amount processing :  2865067\n",
      "After total_amount processing :  2865067\n",
      "After congestion_surcharge and airport_fee processing :  2865067\n",
      "After average_speed processing :  2687556\n"
     ]
    },
    {
     "name": "stderr",
     "output_type": "stream",
     "text": [
      " 25%|████████████████████▌                                                             | 3/12 [08:39<23:54, 159.34s/it]"
     ]
    },
    {
     "name": "stdout",
     "output_type": "stream",
     "text": [
      "Saving to data_processed!\n",
      "I'm doing dataprocessing with 2020-4 data\n",
      "Original length :  238073\n",
      "After datetime processing :  237626\n",
      "After passenger_count processing :  211574\n",
      "After trip_distance processing :  206400\n",
      "After fare_amount processing :  205182\n",
      "After total_amount processing :  205182\n",
      "After congestion_surcharge and airport_fee processing :  205182\n",
      "After average_speed processing :  197634\n"
     ]
    },
    {
     "name": "stderr",
     "output_type": "stream",
     "text": [
      " 33%|███████████████████████████▋                                                       | 4/12 [08:46<13:14, 99.30s/it]"
     ]
    },
    {
     "name": "stdout",
     "output_type": "stream",
     "text": [
      "Saving to data_processed!\n",
      "I'm doing dataprocessing with 2020-5 data\n",
      "Original length :  348415\n",
      "After datetime processing :  347762\n",
      "After passenger_count processing :  279582\n",
      "After trip_distance processing :  271013\n",
      "After fare_amount processing :  269642\n",
      "After total_amount processing :  269642\n",
      "After congestion_surcharge and airport_fee processing :  269642\n",
      "After average_speed processing :  257788\n"
     ]
    },
    {
     "name": "stderr",
     "output_type": "stream",
     "text": [
      " 42%|██████████████████████████████████▌                                                | 5/12 [08:56<07:48, 66.95s/it]"
     ]
    },
    {
     "name": "stdout",
     "output_type": "stream",
     "text": [
      "Saving to data_processed!\n",
      "I'm doing dataprocessing with 2020-6 data\n",
      "Original length :  549797\n",
      "After datetime processing :  549204\n",
      "After passenger_count processing :  485362\n",
      "After trip_distance processing :  470098\n",
      "After fare_amount processing :  467813\n",
      "After total_amount processing :  467813\n",
      "After congestion_surcharge and airport_fee processing :  467813\n",
      "After average_speed processing :  441810\n"
     ]
    },
    {
     "name": "stderr",
     "output_type": "stream",
     "text": [
      " 50%|█████████████████████████████████████████▌                                         | 6/12 [09:12<04:58, 49.78s/it]"
     ]
    },
    {
     "name": "stdout",
     "output_type": "stream",
     "text": [
      "Saving to data_processed!\n",
      "I'm doing dataprocessing with 2020-7 data\n",
      "Original length :  800412\n",
      "After datetime processing :  799509\n",
      "After passenger_count processing :  717422\n",
      "After trip_distance processing :  694937\n",
      "After fare_amount processing :  691618\n",
      "After total_amount processing :  691618\n",
      "After congestion_surcharge and airport_fee processing :  691618\n",
      "After average_speed processing :  652844\n"
     ]
    },
    {
     "name": "stderr",
     "output_type": "stream",
     "text": [
      " 58%|████████████████████████████████████████████████▍                                  | 7/12 [09:36<03:26, 41.33s/it]"
     ]
    },
    {
     "name": "stdout",
     "output_type": "stream",
     "text": [
      "Saving to data_processed!\n",
      "I'm doing dataprocessing with 2020-8 data\n",
      "Original length :  1007286\n",
      "After datetime processing :  1006434\n",
      "After passenger_count processing :  914003\n",
      "After trip_distance processing :  888636\n",
      "After fare_amount processing :  884226\n",
      "After total_amount processing :  884226\n",
      "After congestion_surcharge and airport_fee processing :  884226\n",
      "After average_speed processing :  831966\n"
     ]
    },
    {
     "name": "stderr",
     "output_type": "stream",
     "text": [
      " 67%|███████████████████████████████████████████████████████▎                           | 8/12 [10:07<02:32, 38.02s/it]"
     ]
    },
    {
     "name": "stdout",
     "output_type": "stream",
     "text": [
      "Saving to data_processed!\n",
      "I'm doing dataprocessing with 2020-9 data\n",
      "Original length :  1341017\n",
      "After datetime processing :  1336360\n",
      "After passenger_count processing :  1221767\n",
      "After trip_distance processing :  1201587\n",
      "After fare_amount processing :  1196093\n",
      "After total_amount processing :  1196093\n",
      "After congestion_surcharge and airport_fee processing :  1196093\n",
      "After average_speed processing :  1126227\n"
     ]
    },
    {
     "name": "stderr",
     "output_type": "stream",
     "text": [
      " 75%|██████████████████████████████████████████████████████████████▎                    | 9/12 [10:48<01:57, 39.05s/it]"
     ]
    },
    {
     "name": "stdout",
     "output_type": "stream",
     "text": [
      "Saving to data_processed!\n",
      "I'm doing dataprocessing with 2020-10 data\n",
      "Original length :  1681132\n",
      "After datetime processing :  1674584\n",
      "After passenger_count processing :  1541585\n",
      "After trip_distance processing :  1520257\n",
      "After fare_amount processing :  1513493\n",
      "After total_amount processing :  1513493\n",
      "After congestion_surcharge and airport_fee processing :  1513493\n",
      "After average_speed processing :  1424260\n"
     ]
    },
    {
     "name": "stderr",
     "output_type": "stream",
     "text": [
      " 83%|████████████████████████████████████████████████████████████████████▎             | 10/12 [11:41<01:26, 43.19s/it]"
     ]
    },
    {
     "name": "stdout",
     "output_type": "stream",
     "text": [
      "Saving to data_processed!\n",
      "I'm doing dataprocessing with 2020-11 data\n",
      "Original length :  1509000\n",
      "After datetime processing :  1502670\n",
      "After passenger_count processing :  1380204\n",
      "After trip_distance processing :  1363685\n",
      "After fare_amount processing :  1356983\n",
      "After total_amount processing :  1356983\n",
      "After congestion_surcharge and airport_fee processing :  1356983\n",
      "After average_speed processing :  1275136\n"
     ]
    },
    {
     "name": "stderr",
     "output_type": "stream",
     "text": [
      " 92%|███████████████████████████████████████████████████████████████████████████▏      | 11/12 [12:28<00:44, 44.40s/it]"
     ]
    },
    {
     "name": "stdout",
     "output_type": "stream",
     "text": [
      "Saving to data_processed!\n",
      "I'm doing dataprocessing with 2020-12 data\n",
      "Original length :  1461898\n",
      "After datetime processing :  1455478\n",
      "After passenger_count processing :  1333547\n",
      "After trip_distance processing :  1318790\n",
      "After fare_amount processing :  1311546\n",
      "After total_amount processing :  1311546\n",
      "After congestion_surcharge and airport_fee processing :  1311546\n",
      "After average_speed processing :  1228638\n"
     ]
    },
    {
     "name": "stderr",
     "output_type": "stream",
     "text": [
      "100%|██████████████████████████████████████████████████████████████████████████████████| 12/12 [13:14<00:00, 66.19s/it]\n"
     ]
    },
    {
     "name": "stdout",
     "output_type": "stream",
     "text": [
      "Saving to data_processed!\n"
     ]
    },
    {
     "name": "stderr",
     "output_type": "stream",
     "text": [
      "  0%|                                                                                           | 0/12 [00:00<?, ?it/s]"
     ]
    },
    {
     "name": "stdout",
     "output_type": "stream",
     "text": [
      "I'm doing dataprocessing with 2021-1 data\n",
      "Original length :  1369769\n",
      "After datetime processing :  1363188\n",
      "After passenger_count processing :  1243930\n",
      "After trip_distance processing :  1226282\n",
      "After fare_amount processing :  1220012\n",
      "After total_amount processing :  1220012\n",
      "After congestion_surcharge and airport_fee processing :  1220012\n",
      "After average_speed processing :  1135383\n"
     ]
    },
    {
     "name": "stderr",
     "output_type": "stream",
     "text": [
      "  8%|██████▉                                                                            | 1/12 [00:42<07:48, 42.56s/it]"
     ]
    },
    {
     "name": "stdout",
     "output_type": "stream",
     "text": [
      "Saving to data_processed!\n",
      "I'm doing dataprocessing with 2021-2 data\n",
      "Original length :  1371709\n",
      "After datetime processing :  1364529\n",
      "After passenger_count processing :  1246565\n",
      "After trip_distance processing :  1230436\n",
      "After fare_amount processing :  1224190\n",
      "After total_amount processing :  1224190\n",
      "After congestion_surcharge and airport_fee processing :  1224190\n",
      "After average_speed processing :  1147844\n"
     ]
    },
    {
     "name": "stderr",
     "output_type": "stream",
     "text": [
      " 17%|█████████████▊                                                                     | 2/12 [01:24<07:01, 42.16s/it]"
     ]
    },
    {
     "name": "stdout",
     "output_type": "stream",
     "text": [
      "Saving to data_processed!\n",
      "I'm doing dataprocessing with 2021-3 data\n",
      "Original length :  1925152\n",
      "After datetime processing :  1917578\n",
      "After passenger_count processing :  1756284\n",
      "After trip_distance processing :  1735528\n",
      "After fare_amount processing :  1727070\n",
      "After total_amount processing :  1727070\n",
      "After congestion_surcharge and airport_fee processing :  1727070\n",
      "After average_speed processing :  1616782\n"
     ]
    },
    {
     "name": "stderr",
     "output_type": "stream",
     "text": [
      " 25%|████████████████████▊                                                              | 3/12 [02:24<07:31, 50.12s/it]"
     ]
    },
    {
     "name": "stdout",
     "output_type": "stream",
     "text": [
      "Saving to data_processed!\n",
      "I'm doing dataprocessing with 2021-4 data\n",
      "Original length :  2171187\n",
      "After datetime processing :  2166785\n",
      "After passenger_count processing :  1999800\n",
      "After trip_distance processing :  1972113\n",
      "After fare_amount processing :  1963095\n",
      "After total_amount processing :  1963095\n",
      "After congestion_surcharge and airport_fee processing :  1963095\n",
      "After average_speed processing :  1837044\n"
     ]
    },
    {
     "name": "stderr",
     "output_type": "stream",
     "text": [
      " 33%|███████████████████████████▋                                                       | 4/12 [03:31<07:37, 57.14s/it]"
     ]
    },
    {
     "name": "stdout",
     "output_type": "stream",
     "text": [
      "Saving to data_processed!\n",
      "I'm doing dataprocessing with 2021-5 data\n",
      "Original length :  2507109\n",
      "After datetime processing :  2502363\n",
      "After passenger_count processing :  2328777\n",
      "After trip_distance processing :  2300789\n",
      "After fare_amount processing :  2290781\n",
      "After total_amount processing :  2290781\n",
      "After congestion_surcharge and airport_fee processing :  2290781\n",
      "After average_speed processing :  2145600\n"
     ]
    },
    {
     "name": "stderr",
     "output_type": "stream",
     "text": [
      " 42%|██████████████████████████████████▌                                                | 5/12 [04:51<07:37, 65.32s/it]"
     ]
    },
    {
     "name": "stdout",
     "output_type": "stream",
     "text": [
      "Saving to data_processed!\n",
      "I'm doing dataprocessing with 2021-6 data\n",
      "Original length :  2834264\n",
      "After datetime processing :  2829774\n",
      "After passenger_count processing :  2642063\n",
      "After trip_distance processing :  2614886\n",
      "After fare_amount processing :  2603445\n",
      "After total_amount processing :  2603445\n",
      "After congestion_surcharge and airport_fee processing :  2603445\n",
      "After average_speed processing :  2450302\n"
     ]
    },
    {
     "name": "stderr",
     "output_type": "stream",
     "text": [
      " 50%|█████████████████████████████████████████▌                                         | 6/12 [06:22<07:23, 73.99s/it]"
     ]
    },
    {
     "name": "stdout",
     "output_type": "stream",
     "text": [
      "Saving to data_processed!\n",
      "I'm doing dataprocessing with 2021-7 data\n",
      "Original length :  2821746\n",
      "After datetime processing :  2816878\n",
      "After passenger_count processing :  2621694\n",
      "After trip_distance processing :  2593259\n",
      "After fare_amount processing :  2581295\n",
      "After total_amount processing :  2581295\n",
      "After congestion_surcharge and airport_fee processing :  2581295\n",
      "After average_speed processing :  2414611\n"
     ]
    },
    {
     "name": "stderr",
     "output_type": "stream",
     "text": [
      " 58%|████████████████████████████████████████████████▍                                  | 7/12 [07:52<06:36, 79.28s/it]"
     ]
    },
    {
     "name": "stdout",
     "output_type": "stream",
     "text": [
      "Saving to data_processed!\n",
      "I'm doing dataprocessing with 2021-8 data\n",
      "Original length :  2788757\n",
      "After datetime processing :  2783188\n",
      "After passenger_count processing :  2577615\n",
      "After trip_distance processing :  2550621\n",
      "After fare_amount processing :  2539184\n",
      "After total_amount processing :  2539184\n",
      "After congestion_surcharge and airport_fee processing :  2539184\n",
      "After average_speed processing :  2372660\n"
     ]
    },
    {
     "name": "stderr",
     "output_type": "stream",
     "text": [
      " 67%|███████████████████████████████████████████████████████▎                           | 8/12 [09:20<05:28, 82.13s/it]"
     ]
    },
    {
     "name": "stdout",
     "output_type": "stream",
     "text": [
      "Saving to data_processed!\n",
      "I'm doing dataprocessing with 2021-9 data\n",
      "Original length :  2963793\n",
      "After datetime processing :  2958707\n",
      "After passenger_count processing :  2745496\n",
      "After trip_distance processing :  2703006\n",
      "After fare_amount processing :  2692233\n",
      "After total_amount processing :  2692233\n",
      "After congestion_surcharge and airport_fee processing :  2692233\n",
      "After average_speed processing :  2522396\n"
     ]
    },
    {
     "name": "stderr",
     "output_type": "stream",
     "text": [
      " 75%|██████████████████████████████████████████████████████████████▎                    | 9/12 [10:57<04:19, 86.50s/it]"
     ]
    },
    {
     "name": "stdout",
     "output_type": "stream",
     "text": [
      "Saving to data_processed!\n",
      "I'm doing dataprocessing with 2021-10 data\n",
      "Original length :  3463504\n",
      "After datetime processing :  3459460\n",
      "After passenger_count processing :  3238690\n",
      "After trip_distance processing :  3209204\n",
      "After fare_amount processing :  3196578\n",
      "After total_amount processing :  3196578\n",
      "After congestion_surcharge and airport_fee processing :  3196578\n",
      "After average_speed processing :  2990419\n"
     ]
    },
    {
     "name": "stderr",
     "output_type": "stream",
     "text": [
      " 83%|████████████████████████████████████████████████████████████████████▎             | 10/12 [12:51<03:10, 95.05s/it]"
     ]
    },
    {
     "name": "stdout",
     "output_type": "stream",
     "text": [
      "Saving to data_processed!\n",
      "I'm doing dataprocessing with 2021-11 data\n",
      "Original length :  3472949\n",
      "After datetime processing :  3469425\n",
      "After passenger_count processing :  3261727\n",
      "After trip_distance processing :  3232030\n",
      "After fare_amount processing :  3218556\n",
      "After total_amount processing :  3218556\n",
      "After congestion_surcharge and airport_fee processing :  3218556\n",
      "After average_speed processing :  3014022\n"
     ]
    },
    {
     "name": "stderr",
     "output_type": "stream",
     "text": [
      " 92%|██████████████████████████████████████████████████████████████████████████▎      | 11/12 [14:42<01:40, 100.08s/it]"
     ]
    },
    {
     "name": "stdout",
     "output_type": "stream",
     "text": [
      "Saving to data_processed!\n",
      "I'm doing dataprocessing with 2021-12 data\n",
      "Original length :  3214369\n",
      "After datetime processing :  3211484\n",
      "After passenger_count processing :  3038958\n",
      "After trip_distance processing :  3006460\n",
      "After fare_amount processing :  2991961\n",
      "After total_amount processing :  2991961\n",
      "After congestion_surcharge and airport_fee processing :  2991961\n"
     ]
    }
   ],
   "source": [
    "count=0\n",
    "for i in [2019,2020,2021,2022]:\n",
    "    for j in tqdm(range(1,13)):\n",
    "        if count<9:\n",
    "            count+=1\n",
    "            continue\n",
    "        if j>=10:\n",
    "            dataframe_yellow_cab = pd.read_parquet(\"D:/Working_Place/new_uber/data/yellow_tripdata_{}-{}.parquet\".format(i,j))\n",
    "        else:\n",
    "            dataframe_yellow_cab = pd.read_parquet(\"D:/Working_Place/new_uber/data/yellow_tripdata_{}-{}.parquet\".format(i,\"0\"+str(j)))\n",
    "        dataprocessing(dataframe_yellow_cab,i,j)\n",
    "        del dataframe_yellow_cab "
   ]
  },
  {
   "cell_type": "code",
   "execution_count": null,
   "id": "9ec43cf7-4813-47d2-afd1-6f4bd055bafc",
   "metadata": {},
   "outputs": [],
   "source": []
  }
 ],
 "metadata": {
  "kernelspec": {
   "display_name": "new_uber",
   "language": "python",
   "name": "new_uber"
  },
  "language_info": {
   "codemirror_mode": {
    "name": "ipython",
    "version": 3
   },
   "file_extension": ".py",
   "mimetype": "text/x-python",
   "name": "python",
   "nbconvert_exporter": "python",
   "pygments_lexer": "ipython3",
   "version": "3.7.1"
  }
 },
 "nbformat": 4,
 "nbformat_minor": 5
}

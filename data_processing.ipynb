{
 "cells": [
  {
   "cell_type": "markdown",
   "id": "4a2b51d1",
   "metadata": {},
   "source": [
    "# 1. Data checking"
   ]
  },
  {
   "cell_type": "code",
   "execution_count": 1,
   "id": "cfd2fe91",
   "metadata": {},
   "outputs": [],
   "source": [
    "import pandas as pd\n",
    "import numpy as np\n",
    "import matplotlib.pyplot as plt\n",
    "import decimal\n",
    "import math\n",
    "from datetime import datetime as dt\n",
    "from datetime import timedelta\n",
    "from tqdm import tqdm"
   ]
  },
  {
   "cell_type": "markdown",
   "id": "70b5fcbd",
   "metadata": {
    "jp-MarkdownHeadingCollapsed": true,
    "tags": []
   },
   "source": [
    "## 1) yellow trip data from 2019 Jan"
   ]
  },
  {
   "cell_type": "code",
   "execution_count": null,
   "id": "ca4651f3",
   "metadata": {},
   "outputs": [],
   "source": [
    "y1901 = pd.read_parquet(\"D:/Working_Place/new_uber/data/yellow_tripdata_2019-01.parquet\")\n",
    "y1901.head(10)"
   ]
  },
  {
   "cell_type": "code",
   "execution_count": null,
   "id": "25b34af3",
   "metadata": {},
   "outputs": [],
   "source": [
    "print(len(y1901))"
   ]
  },
  {
   "cell_type": "code",
   "execution_count": null,
   "id": "d6b98676",
   "metadata": {},
   "outputs": [],
   "source": [
    "print(y1901.columns)\n",
    "##let's do it columns by columns"
   ]
  },
  {
   "cell_type": "code",
   "execution_count": null,
   "id": "94c1d04e",
   "metadata": {},
   "outputs": [],
   "source": [
    "len(y1901.columns)"
   ]
  },
  {
   "cell_type": "markdown",
   "id": "29f6564a",
   "metadata": {},
   "source": [
    "### -1. VendorID"
   ]
  },
  {
   "cell_type": "code",
   "execution_count": null,
   "id": "8031b47d",
   "metadata": {},
   "outputs": [],
   "source": [
    "print(y1901.VendorID.unique())"
   ]
  },
  {
   "cell_type": "markdown",
   "id": "74eaf05e",
   "metadata": {},
   "source": [
    "What is 4,5...? But it doesn't matter"
   ]
  },
  {
   "cell_type": "markdown",
   "id": "d12f1c71",
   "metadata": {},
   "source": [
    "### -2. pickup & dropoff datetime"
   ]
  },
  {
   "cell_type": "code",
   "execution_count": null,
   "id": "edee27ae",
   "metadata": {},
   "outputs": [],
   "source": [
    "y1901[y1901.tpep_pickup_datetime.dt.hour==1]"
   ]
  },
  {
   "cell_type": "code",
   "execution_count": null,
   "id": "01a475e5",
   "metadata": {},
   "outputs": [],
   "source": [
    "y1901.tpep_pickup_datetime.dt.year.unique()"
   ]
  },
  {
   "cell_type": "code",
   "execution_count": null,
   "id": "9d4ba880",
   "metadata": {},
   "outputs": [],
   "source": [
    "y1901[(y1901.tpep_pickup_datetime.dt.year==2018)|\n",
    "      (y1901.tpep_pickup_datetime.dt.year==2003)|\n",
    "     (y1901.tpep_pickup_datetime.dt.year==2008)|\n",
    "     (y1901.tpep_pickup_datetime.dt.year==2009)|\n",
    "     (y1901.tpep_pickup_datetime.dt.year==2001)|\n",
    "     (y1901.tpep_pickup_datetime.dt.year==2088)]"
   ]
  },
  {
   "cell_type": "code",
   "execution_count": null,
   "id": "343ac438",
   "metadata": {},
   "outputs": [],
   "source": [
    "y1901 = y1901[y1901.tpep_pickup_datetime.dt.year==2019]"
   ]
  },
  {
   "cell_type": "code",
   "execution_count": null,
   "id": "98b53ec4",
   "metadata": {},
   "outputs": [],
   "source": [
    "y1901.tpep_pickup_datetime.dt.month.unique()\n",
    "##It is data for January!!"
   ]
  },
  {
   "cell_type": "code",
   "execution_count": null,
   "id": "1825a2b2",
   "metadata": {},
   "outputs": [],
   "source": [
    "y1901[y1901.tpep_pickup_datetime.dt.month!=1]"
   ]
  },
  {
   "cell_type": "code",
   "execution_count": null,
   "id": "5d98bccf",
   "metadata": {},
   "outputs": [],
   "source": [
    "y1901 = y1901[y1901.tpep_pickup_datetime.dt.month==1]\n",
    "len(y1901)"
   ]
  },
  {
   "cell_type": "code",
   "execution_count": null,
   "id": "aa06655f",
   "metadata": {},
   "outputs": [],
   "source": [
    "y1901.tpep_dropoff_datetime.dt.year.unique()"
   ]
  },
  {
   "cell_type": "code",
   "execution_count": null,
   "id": "b63496c1",
   "metadata": {},
   "outputs": [],
   "source": [
    "y1901[y1901.tpep_dropoff_datetime.dt.year==2018]"
   ]
  },
  {
   "cell_type": "code",
   "execution_count": null,
   "id": "178f7764",
   "metadata": {},
   "outputs": [],
   "source": [
    "y1901 = y1901[y1901.tpep_dropoff_datetime.dt.year==2019]\n",
    "len(y1901)"
   ]
  },
  {
   "cell_type": "code",
   "execution_count": null,
   "id": "24c45918",
   "metadata": {},
   "outputs": [],
   "source": [
    "y1901.tpep_dropoff_datetime.dt.month.unique()"
   ]
  },
  {
   "cell_type": "code",
   "execution_count": null,
   "id": "96db3417",
   "metadata": {},
   "outputs": [],
   "source": [
    "y1901[y1901.tpep_dropoff_datetime.dt.month==2]\n",
    "##It can be because someone pickup January 31st."
   ]
  },
  {
   "cell_type": "code",
   "execution_count": null,
   "id": "c7ebb7eb",
   "metadata": {},
   "outputs": [],
   "source": [
    "y1901=y1901[y1901.tpep_dropoff_datetime>y1901.tpep_pickup_datetime]"
   ]
  },
  {
   "cell_type": "markdown",
   "id": "a0c66df1",
   "metadata": {},
   "source": [
    "### -3. passenger_count"
   ]
  },
  {
   "cell_type": "code",
   "execution_count": null,
   "id": "97aa8f76",
   "metadata": {},
   "outputs": [],
   "source": [
    "y1901.passenger_count.unique()"
   ]
  },
  {
   "cell_type": "code",
   "execution_count": null,
   "id": "9fe52b4f",
   "metadata": {},
   "outputs": [],
   "source": [
    "y1901[y1901.passenger_count.isna()]"
   ]
  },
  {
   "cell_type": "code",
   "execution_count": null,
   "id": "bc6f7753",
   "metadata": {},
   "outputs": [],
   "source": [
    "y1901[(y1901.passenger_count.isna()) | (y1901.passenger_count==0)]"
   ]
  },
  {
   "cell_type": "code",
   "execution_count": null,
   "id": "6e7f0804",
   "metadata": {},
   "outputs": [],
   "source": [
    "y1901 = y1901[(y1901.passenger_count.notnull()) & (y1901.passenger_count!=0)]\n",
    "len(y1901)"
   ]
  },
  {
   "cell_type": "markdown",
   "id": "8593a3b1",
   "metadata": {},
   "source": [
    "### -4. trip_distance"
   ]
  },
  {
   "cell_type": "code",
   "execution_count": null,
   "id": "e2c2f26c",
   "metadata": {},
   "outputs": [],
   "source": [
    "y1901.trip_distance.plot()\n",
    "plt.show()"
   ]
  },
  {
   "cell_type": "code",
   "execution_count": null,
   "id": "3f977a4a",
   "metadata": {},
   "outputs": [],
   "source": [
    "y1901.trip_distance.max(),y1901.trip_distance.min()"
   ]
  },
  {
   "cell_type": "code",
   "execution_count": null,
   "id": "56e3f18c",
   "metadata": {},
   "outputs": [],
   "source": [
    "y1901[y1901.trip_distance==831.8]\n",
    "##this should be erased by speed columns"
   ]
  },
  {
   "cell_type": "code",
   "execution_count": null,
   "id": "8ed4f027",
   "metadata": {},
   "outputs": [],
   "source": [
    "y1901[y1901.trip_distance==0.0]"
   ]
  },
  {
   "cell_type": "code",
   "execution_count": null,
   "id": "04045783",
   "metadata": {},
   "outputs": [],
   "source": [
    "y1901 = y1901[y1901.trip_distance!=0.0]\n",
    "print(len(y1901))"
   ]
  },
  {
   "cell_type": "code",
   "execution_count": null,
   "id": "da065466",
   "metadata": {},
   "outputs": [],
   "source": [
    "y1901['trip_distance'] = y1901['trip_distance']*1.61\n",
    "y1901.head()"
   ]
  },
  {
   "cell_type": "markdown",
   "id": "ee6d5b7d",
   "metadata": {},
   "source": [
    "### -5. RatecodeID"
   ]
  },
  {
   "cell_type": "code",
   "execution_count": null,
   "id": "666daeb7",
   "metadata": {},
   "outputs": [],
   "source": [
    "y1901.RatecodeID.unique()"
   ]
  },
  {
   "cell_type": "code",
   "execution_count": null,
   "id": "f2b07193",
   "metadata": {},
   "outputs": [],
   "source": [
    "y1901[y1901.RatecodeID==99.0]"
   ]
  },
  {
   "cell_type": "markdown",
   "id": "e73f2332",
   "metadata": {},
   "source": [
    "### -6. Payment_type"
   ]
  },
  {
   "cell_type": "code",
   "execution_count": null,
   "id": "8defc8be",
   "metadata": {},
   "outputs": [],
   "source": [
    "y1901.payment_type.unique()"
   ]
  },
  {
   "cell_type": "markdown",
   "id": "b8fe02f4",
   "metadata": {},
   "source": [
    "### -7. Fare_amount"
   ]
  },
  {
   "cell_type": "code",
   "execution_count": null,
   "id": "17bf2a44",
   "metadata": {},
   "outputs": [],
   "source": [
    "y1901.fare_amount.plot()\n",
    "plt.show()"
   ]
  },
  {
   "cell_type": "code",
   "execution_count": null,
   "id": "3840f792",
   "metadata": {},
   "outputs": [],
   "source": [
    "y1901[y1901.fare_amount>600000]"
   ]
  },
  {
   "cell_type": "code",
   "execution_count": null,
   "id": "7b2d3a48",
   "metadata": {},
   "outputs": [],
   "source": [
    "y1901 = y1901[y1901.fare_amount<600000]"
   ]
  },
  {
   "cell_type": "code",
   "execution_count": null,
   "id": "6caa44c7",
   "metadata": {},
   "outputs": [],
   "source": [
    "y1901.fare_amount.plot()"
   ]
  },
  {
   "cell_type": "code",
   "execution_count": null,
   "id": "2c25c5b6",
   "metadata": {},
   "outputs": [],
   "source": [
    "y1901[y1901.fare_amount>2000]"
   ]
  },
  {
   "cell_type": "code",
   "execution_count": null,
   "id": "9f357daf",
   "metadata": {},
   "outputs": [],
   "source": [
    "y1901[y1901.fare_amount<0]"
   ]
  },
  {
   "cell_type": "code",
   "execution_count": null,
   "id": "34e79403",
   "metadata": {},
   "outputs": [],
   "source": [
    "y1901 = y1901[y1901.fare_amount>=0]"
   ]
  },
  {
   "cell_type": "markdown",
   "id": "99c1800c",
   "metadata": {},
   "source": [
    "### -8. tip_amount\n",
    "What I want to have"
   ]
  },
  {
   "cell_type": "code",
   "execution_count": null,
   "id": "c1d76a10",
   "metadata": {},
   "outputs": [],
   "source": [
    "y1901.tip_amount.plot()"
   ]
  },
  {
   "cell_type": "code",
   "execution_count": null,
   "id": "2daf9376",
   "metadata": {},
   "outputs": [],
   "source": [
    "y1901[y1901.tip_amount==0]"
   ]
  },
  {
   "cell_type": "code",
   "execution_count": null,
   "id": "d55928fe",
   "metadata": {},
   "outputs": [],
   "source": [
    "y1901[y1901.tip_amount!=0]"
   ]
  },
  {
   "cell_type": "markdown",
   "id": "74e5807b",
   "metadata": {},
   "source": [
    "### -9. total_amount\n",
    "is it really 'total'?"
   ]
  },
  {
   "cell_type": "code",
   "execution_count": null,
   "id": "66443a09",
   "metadata": {},
   "outputs": [],
   "source": [
    "y1901[y1901.fare_amount + y1901.extra + y1901.mta_tax + y1901.tip_amount + y1901.tolls_amount + y1901.improvement_surcharge!=y1901.total_amount]"
   ]
  },
  {
   "cell_type": "code",
   "execution_count": null,
   "id": "b4324673",
   "metadata": {},
   "outputs": [],
   "source": [
    "not_total_list = y1901[y1901.fare_amount + y1901.extra + y1901.mta_tax + y1901.tip_amount + y1901.tolls_amount + y1901.improvement_surcharge != y1901.total_amount].index\n",
    "not_total_list[:10]"
   ]
  },
  {
   "cell_type": "code",
   "execution_count": null,
   "id": "bfe345a9",
   "metadata": {},
   "outputs": [],
   "source": [
    "not_total_list_index=[]\n",
    "for i in tqdm(not_total_list):\n",
    "    if not math.isclose(y1901.fare_amount[i]+y1901.extra[i]+y1901.mta_tax[i]+y1901.tip_amount[i]+y1901.tolls_amount[i]+y1901.improvement_surcharge[i],y1901.total_amount[i]):\n",
    "        not_total_list_index.append(i)\n",
    "print(len(not_total_list_index))"
   ]
  },
  {
   "cell_type": "code",
   "execution_count": null,
   "id": "40253dd9",
   "metadata": {},
   "outputs": [],
   "source": [
    "y1901.drop(not_total_list_index,axis=0,inplace=True)\n",
    "print(len(y1901))"
   ]
  },
  {
   "cell_type": "code",
   "execution_count": null,
   "id": "b38018db",
   "metadata": {},
   "outputs": [],
   "source": [
    "y1901.to_csv(\"D:/Working_Place/new_uber/data/data_processed/y1901.csv\")"
   ]
  },
  {
   "cell_type": "markdown",
   "id": "9fb0cb8d",
   "metadata": {},
   "source": [
    "### -10. Congestion_surcharge & airport_fee"
   ]
  },
  {
   "cell_type": "code",
   "execution_count": null,
   "id": "a17138c8",
   "metadata": {},
   "outputs": [],
   "source": [
    "y1901[y1901.congestion_surcharge.notnull()]"
   ]
  },
  {
   "cell_type": "code",
   "execution_count": null,
   "id": "92ce03f3",
   "metadata": {},
   "outputs": [],
   "source": [
    "y1901[(y1901.congestion_surcharge.notnull())&(y1901.congestion_surcharge!=0)]"
   ]
  },
  {
   "cell_type": "code",
   "execution_count": null,
   "id": "7697ce27",
   "metadata": {},
   "outputs": [],
   "source": [
    "y1901['congestion_surcharge'] = y1901['congestion_surcharge'].fillna(0)"
   ]
  },
  {
   "cell_type": "code",
   "execution_count": null,
   "id": "b1e3b7f7",
   "metadata": {},
   "outputs": [],
   "source": [
    "y1901['airport_fee'] = y1901['airport_fee'].fillna(0)"
   ]
  },
  {
   "cell_type": "markdown",
   "id": "aa42a6e9",
   "metadata": {},
   "source": [
    "### -11. Average Speed"
   ]
  },
  {
   "cell_type": "code",
   "execution_count": null,
   "id": "4d2f58d6",
   "metadata": {},
   "outputs": [],
   "source": [
    "y1901.loc[68267,'tpep_dropoff_datetime']-y1901.loc[68267,'tpep_pickup_datetime']>timedelta(1)"
   ]
  },
  {
   "cell_type": "code",
   "execution_count": null,
   "id": "1e6dcb8d",
   "metadata": {},
   "outputs": [],
   "source": [
    "y1901[(y1901.tpep_dropoff_datetime-y1901.tpep_pickup_datetime)>timedelta(hours=12)]"
   ]
  },
  {
   "cell_type": "code",
   "execution_count": null,
   "id": "723a2a12",
   "metadata": {},
   "outputs": [],
   "source": [
    "interval_time = y1901.loc[68267,'tpep_dropoff_datetime']-y1901.loc[68267,'tpep_pickup_datetime']\n",
    "interval_time.total_seconds()/60/60"
   ]
  },
  {
   "cell_type": "code",
   "execution_count": null,
   "id": "07b73cb9",
   "metadata": {},
   "outputs": [],
   "source": []
  },
  {
   "cell_type": "code",
   "execution_count": null,
   "id": "284c1731",
   "metadata": {},
   "outputs": [],
   "source": [
    "y1901['average_speed'] = y1901.apply(lambda x: x['trip_distance']/((x['tpep_dropoff_datetime']-x['tpep_pickup_datetime']).total_seconds()/60/60),axis=1)\n",
    "y1901"
   ]
  },
  {
   "cell_type": "code",
   "execution_count": null,
   "id": "5a42b96f",
   "metadata": {},
   "outputs": [],
   "source": [
    "y1901['average_speed'].plot()\n",
    "plt.show()"
   ]
  },
  {
   "cell_type": "code",
   "execution_count": null,
   "id": "1ecb2ae3",
   "metadata": {},
   "outputs": [],
   "source": [
    "y1901[y1901.average_speed>20000]"
   ]
  },
  {
   "cell_type": "code",
   "execution_count": null,
   "id": "3d0268c2",
   "metadata": {},
   "outputs": [],
   "source": [
    "y1901['average_speed'].describe()"
   ]
  },
  {
   "cell_type": "code",
   "execution_count": null,
   "id": "b13cfe01",
   "metadata": {},
   "outputs": [],
   "source": [
    "q1=y1901['average_speed'].quantile(0.25)\n",
    "q3=y1901['average_speed'].quantile(0.75)\n",
    "iqr = q3-q1\n",
    "len(y1901[(y1901.average_speed<(q3+1.5*iqr)) & (y1901.average_speed>(q1-1.5*iqr))])/len(y1901)"
   ]
  },
  {
   "cell_type": "code",
   "execution_count": null,
   "id": "8b3ffe76",
   "metadata": {},
   "outputs": [],
   "source": [
    "y1901 = y1901[(y1901.average_speed<(q3+1.5*iqr)) & (y1901.average_speed>(q1-1.5*iqr))]\n",
    "y1901.head()"
   ]
  },
  {
   "cell_type": "code",
   "execution_count": null,
   "id": "ad6233b1",
   "metadata": {},
   "outputs": [],
   "source": [
    "y1901.trip_distance.describe()"
   ]
  },
  {
   "cell_type": "code",
   "execution_count": null,
   "id": "58d1cda0",
   "metadata": {},
   "outputs": [],
   "source": [
    "y1901[y1901.trip_distance==3.445561e+02]"
   ]
  },
  {
   "cell_type": "code",
   "execution_count": null,
   "id": "4e719fb9",
   "metadata": {},
   "outputs": [],
   "source": [
    "y1901.to_csv('D:/Working_Place/new_uber/data/data_processed/y1901.csv')"
   ]
  },
  {
   "cell_type": "code",
   "execution_count": null,
   "id": "6e780d05",
   "metadata": {},
   "outputs": [],
   "source": [
    "y1901.columns"
   ]
  },
  {
   "cell_type": "code",
   "execution_count": null,
   "id": "5383ab34",
   "metadata": {},
   "outputs": [],
   "source": []
  },
  {
   "cell_type": "markdown",
   "id": "e638eead",
   "metadata": {},
   "source": [
    "# 2) Do it with all monthly data!"
   ]
  },
  {
   "cell_type": "code",
   "execution_count": 2,
   "id": "d5870eb0",
   "metadata": {},
   "outputs": [],
   "source": [
    "def dataprocessing(df,year,month):\n",
    "    print(\"I'm doing dataprocessing with {}-{} data\".format(year,month))\n",
    "    print(\"Original length : \", len(df))\n",
    "    ##1) column checking\n",
    "    if not (df.columns==['VendorID', 'tpep_pickup_datetime', 'tpep_dropoff_datetime',\n",
    "           'passenger_count', 'trip_distance', 'RatecodeID', 'store_and_fwd_flag',\n",
    "           'PULocationID', 'DOLocationID', 'payment_type', 'fare_amount', 'extra',\n",
    "           'mta_tax', 'tip_amount', 'tolls_amount', 'improvement_surcharge',\n",
    "           'total_amount', 'congestion_surcharge', 'airport_fee']).all():\n",
    "            print(\"The columns are different!\")\n",
    "            print(df.columns)\n",
    "            return df\n",
    "    else:\n",
    "        ##2) pickup/dropoff datetime\n",
    "        df1=df[(df.tpep_pickup_datetime.dt.year==year)&(df.tpep_pickup_datetime.dt.month==month)]\n",
    "        if month!=12:\n",
    "            df1=df1[df1.tpep_dropoff_datetime.dt.year==year]\n",
    "        df1=df1[df1.tpep_dropoff_datetime>df1.tpep_pickup_datetime]\n",
    "        print(\"After datetime processing : \", len(df1))\n",
    "            \n",
    "        ##3) passenger_count\n",
    "        df1 = df1[(df1.passenger_count.notnull()) & (df1.passenger_count>0)]\n",
    "        print(\"After passenger_count processing : \", len(df1))\n",
    "\n",
    "        ##4) trip_ditance\n",
    "        df1 = df1[df1.trip_distance>0.0]\n",
    "        print(\"After trip_distance processing : \", len(df1))\n",
    "\n",
    "        ##5) fare_amount\n",
    "        df1 = df1[df1.fare_amount>0]\n",
    "        print(\"After fare_amount processing : \", len(df1))\n",
    "\n",
    "        ##6) total_amount\n",
    "        df1.loc[:,'total_amount'] = df1.loc[:,'fare_amount':'improvement_surcharge'].sum(axis=1)\n",
    "        print(\"After total_amount processing : \", len(df1))\n",
    "        \n",
    "        ##7) congestion_surcharge\n",
    "        df1['congestion_surcharge'] = df1['congestion_surcharge'].fillna(0)\n",
    "        df1['airport_fee'] = df1['airport_fee'].fillna(0)\n",
    "        print(\"After congestion_surcharge and airport_fee processing : \", len(df1))\n",
    "        \n",
    "        ##8) average_speed\n",
    "        df1['average_speed'] = df1.apply(lambda x: x['trip_distance']/((x['tpep_dropoff_datetime']-x['tpep_pickup_datetime']).total_seconds()/60/60),axis=1)\n",
    "        q1=df1['average_speed'].quantile(0.25)\n",
    "        q3=df1['average_speed'].quantile(0.75)\n",
    "        iqr = q3-q1\n",
    "        df1 = df1[(df1.average_speed<(q3+1.5*iqr)) & (df1.average_speed>(q1-1.5*iqr))]\n",
    "        print(\"After average_speed processing : \", len(df1))\n",
    "        \n",
    "        yearname = str(year%2000)\n",
    "        if month<10:\n",
    "            monthname = \"0\"+str(month)\n",
    "        else:\n",
    "            monthname = str(month)\n",
    "        print(\"Saving to data_processed!\")\n",
    "        df1.to_parquet('D:/Working_Place/new_uber/data/data_processed/y{}{}.parquet'.format(yearname,monthname))\n",
    "        return df1"
   ]
  },
  {
   "cell_type": "markdown",
   "id": "80ebfaa7",
   "metadata": {
    "tags": []
   },
   "source": [
    "## -1. test with 2019-02"
   ]
  },
  {
   "cell_type": "code",
   "execution_count": null,
   "id": "408ab736",
   "metadata": {},
   "outputs": [],
   "source": [
    "y1902 = pd.read_parquet(\"D:/Working_Place/new_uber/data/yellow_tripdata_2019-02.parquet\")\n",
    "print(len(y1902))\n",
    "y1902.head()\n"
   ]
  },
  {
   "cell_type": "code",
   "execution_count": null,
   "id": "a5d03d64",
   "metadata": {},
   "outputs": [],
   "source": [
    "y1902_processed = dataprocessing(y1902,2019,2)\n",
    "y1902_processed.head()"
   ]
  },
  {
   "cell_type": "code",
   "execution_count": null,
   "id": "e4cb1c95",
   "metadata": {},
   "outputs": [],
   "source": [
    "y1902.to_csv('D:/Working_Place/new_uber/data/data_processed/y1902.csv')"
   ]
  },
  {
   "cell_type": "markdown",
   "id": "5b9eb229",
   "metadata": {
    "jp-MarkdownHeadingCollapsed": true,
    "tags": []
   },
   "source": [
    "## -2. With all data"
   ]
  },
  {
   "cell_type": "code",
   "execution_count": null,
   "id": "b39510a0",
   "metadata": {},
   "outputs": [],
   "source": [
    "y1903 = pd.read_parquet(\"D:/Working_Place/new_uber/data/yellow_tripdata_2019-03.parquet\")\n",
    "y1904 = pd.read_parquet(\"D:/Working_Place/new_uber/data/yellow_tripdata_2019-04.parquet\")\n",
    "y1905 = pd.read_parquet(\"D:/Working_Place/new_uber/data/yellow_tripdata_2019-05.parquet\")\n",
    "y1906 = pd.read_parquet(\"D:/Working_Place/new_uber/data/yellow_tripdata_2019-06.parquet\")\n",
    "data_list = [(y1903,2019,3),(y1904,2019,4),(y1905,2019,5),(y1906,2019,6)]"
   ]
  },
  {
   "cell_type": "code",
   "execution_count": null,
   "id": "2e8bec30",
   "metadata": {},
   "outputs": [],
   "source": [
    "after_processing=[y1901,y1902]\n",
    "for i,j,k in tqdm(data_list):\n",
    "    after_processing.append(dataprocessing(i,j,k))"
   ]
  },
  {
   "cell_type": "code",
   "execution_count": null,
   "id": "47257080",
   "metadata": {},
   "outputs": [],
   "source": [
    "y1907 = pd.read_parquet(\"D:/Working_Place/new_uber/data/yellow_tripdata_2019-07.parquet\")\n",
    "y1908 = pd.read_parquet(\"D:/Working_Place/new_uber/data/yellow_tripdata_2019-08.parquet\")\n",
    "y1909 = pd.read_parquet(\"D:/Working_Place/new_uber/data/yellow_tripdata_2019-09.parquet\")\n",
    "y1910 = pd.read_parquet(\"D:/Working_Place/new_uber/data/yellow_tripdata_2019-10.parquet\")\n",
    "y1911 = pd.read_parquet(\"D:/Working_Place/new_uber/data/yellow_tripdata_2019-11.parquet\")\n",
    "y1912 = pd.read_parquet(\"D:/Working_Place/new_uber/data/yellow_tripdata_2019-12.parquet\")\n",
    "\n",
    "data_list = [(y1907,2019,7),(y1908,2019,8),(y1909,2019,9),(y1910,2019,10),(y1911,2019,11),(y1912,2019,12)]"
   ]
  },
  {
   "cell_type": "code",
   "execution_count": null,
   "id": "cfb6bd6d",
   "metadata": {},
   "outputs": [],
   "source": [
    "for i,j,k in tqdm(data_list):\n",
    "    after_processing.append(dataprocessing(i,j,k))"
   ]
  },
  {
   "cell_type": "markdown",
   "id": "f081e7cb-c8ca-42ad-89d9-223934a5dff6",
   "metadata": {},
   "source": [
    "## -3. Do it first of all"
   ]
  },
  {
   "cell_type": "code",
   "execution_count": 3,
   "id": "fbb9031a-8cd9-46e2-b8e6-3b39da5c1b1a",
   "metadata": {},
   "outputs": [
    {
     "name": "stderr",
     "output_type": "stream",
     "text": [
      "  0%|                                                                                           | 0/12 [00:00<?, ?it/s]"
     ]
    },
    {
     "name": "stdout",
     "output_type": "stream",
     "text": [
      "I'm doing dataprocessing with 2019-1 data\n",
      "Original length :  7696617\n",
      "After datetime processing :  7689526\n",
      "After passenger_count processing :  7544006\n",
      "After trip_distance processing :  7496719\n",
      "After fare_amount processing :  7490191\n",
      "After total_amount processing :  7490191\n",
      "After congestion_surcharge and airport_fee processing :  7490191\n",
      "After average_speed processing :  7008294\n",
      "Saving to data_processed!\n"
     ]
    },
    {
     "name": "stderr",
     "output_type": "stream",
     "text": [
      "  8%|██████▊                                                                           | 1/12 [03:35<39:29, 215.42s/it]"
     ]
    },
    {
     "name": "stdout",
     "output_type": "stream",
     "text": [
      "I'm doing dataprocessing with 2019-2 data\n",
      "Original length :  7049370\n",
      "After datetime processing :  7042349\n",
      "After passenger_count processing :  6894016\n",
      "After trip_distance processing :  6851861\n",
      "After fare_amount processing :  6842999\n",
      "After total_amount processing :  6842999\n",
      "After congestion_surcharge and airport_fee processing :  6842999\n",
      "After average_speed processing :  6424718\n",
      "Saving to data_processed!\n"
     ]
    },
    {
     "name": "stderr",
     "output_type": "stream",
     "text": [
      " 17%|█████████████▋                                                                    | 2/12 [06:35<32:23, 194.34s/it]"
     ]
    },
    {
     "name": "stdout",
     "output_type": "stream",
     "text": [
      "I'm doing dataprocessing with 2019-3 data\n",
      "Original length :  7866620\n",
      "After datetime processing :  7859868\n",
      "After passenger_count processing :  7686818\n",
      "After trip_distance processing :  7640714\n",
      "After fare_amount processing :  7629477\n",
      "After total_amount processing :  7629477\n",
      "After congestion_surcharge and airport_fee processing :  7629477\n",
      "After average_speed processing :  7181590\n",
      "Saving to data_processed!\n"
     ]
    },
    {
     "name": "stderr",
     "output_type": "stream",
     "text": [
      " 25%|████████████████████▌                                                             | 3/12 [09:57<29:40, 197.84s/it]"
     ]
    },
    {
     "name": "stdout",
     "output_type": "stream",
     "text": [
      "I'm doing dataprocessing with 2019-4 data\n",
      "Original length :  7475949\n",
      "After datetime processing :  7469383\n",
      "After passenger_count processing :  7290683\n",
      "After trip_distance processing :  7247311\n",
      "After fare_amount processing :  7235996\n",
      "After total_amount processing :  7235996\n",
      "After congestion_surcharge and airport_fee processing :  7235996\n",
      "After average_speed processing :  6814320\n",
      "Saving to data_processed!\n"
     ]
    },
    {
     "name": "stderr",
     "output_type": "stream",
     "text": [
      " 33%|███████████████████████████▎                                                      | 4/12 [13:08<26:01, 195.25s/it]"
     ]
    },
    {
     "name": "stdout",
     "output_type": "stream",
     "text": [
      "I'm doing dataprocessing with 2019-5 data\n",
      "Original length :  7598445\n",
      "After datetime processing :  7590387\n",
      "After passenger_count processing :  7414330\n",
      "After trip_distance processing :  7367003\n",
      "After fare_amount processing :  7354340\n",
      "After total_amount processing :  7354340\n",
      "After congestion_surcharge and airport_fee processing :  7354340\n",
      "After average_speed processing :  6950216\n",
      "Saving to data_processed!\n"
     ]
    },
    {
     "name": "stderr",
     "output_type": "stream",
     "text": [
      " 42%|██████████████████████████████████▏                                               | 5/12 [16:23<22:46, 195.16s/it]"
     ]
    },
    {
     "name": "stdout",
     "output_type": "stream",
     "text": [
      "I'm doing dataprocessing with 2019-6 data\n",
      "Original length :  6971560\n",
      "After datetime processing :  6962032\n",
      "After passenger_count processing :  6803682\n",
      "After trip_distance processing :  6751106\n",
      "After fare_amount processing :  6737951\n",
      "After total_amount processing :  6737951\n",
      "After congestion_surcharge and airport_fee processing :  6737951\n",
      "After average_speed processing :  6371602\n",
      "Saving to data_processed!\n"
     ]
    },
    {
     "name": "stderr",
     "output_type": "stream",
     "text": [
      " 50%|█████████████████████████████████████████                                         | 6/12 [19:21<18:56, 189.34s/it]"
     ]
    },
    {
     "name": "stdout",
     "output_type": "stream",
     "text": [
      "I'm doing dataprocessing with 2019-7 data\n",
      "Original length :  6310419\n",
      "After datetime processing :  6301913\n",
      "After passenger_count processing :  6151598\n",
      "After trip_distance processing :  6093549\n",
      "After fare_amount processing :  6081092\n",
      "After total_amount processing :  6081092\n",
      "After congestion_surcharge and airport_fee processing :  6081092\n",
      "After average_speed processing :  5741085\n",
      "Saving to data_processed!\n"
     ]
    },
    {
     "name": "stderr",
     "output_type": "stream",
     "text": [
      " 58%|███████████████████████████████████████████████▊                                  | 7/12 [22:01<14:58, 179.73s/it]"
     ]
    },
    {
     "name": "stdout",
     "output_type": "stream",
     "text": [
      "I'm doing dataprocessing with 2019-8 data\n",
      "Original length :  6073357\n",
      "After datetime processing :  6065876\n",
      "After passenger_count processing :  5922661\n",
      "After trip_distance processing :  5861821\n",
      "After fare_amount processing :  5847688\n",
      "After total_amount processing :  5847688\n",
      "After congestion_surcharge and airport_fee processing :  5847688\n",
      "After average_speed processing :  5517944\n",
      "Saving to data_processed!\n"
     ]
    },
    {
     "name": "stderr",
     "output_type": "stream",
     "text": [
      " 67%|██████████████████████████████████████████████████████▋                           | 8/12 [24:33<11:24, 171.04s/it]"
     ]
    },
    {
     "name": "stdout",
     "output_type": "stream",
     "text": [
      "I'm doing dataprocessing with 2019-9 data\n",
      "Original length :  6567788\n",
      "After datetime processing :  6561405\n",
      "After passenger_count processing :  6407340\n",
      "After trip_distance processing :  6344034\n",
      "After fare_amount processing :  6329067\n",
      "After total_amount processing :  6329067\n",
      "After congestion_surcharge and airport_fee processing :  6329067\n",
      "After average_speed processing :  5957945\n",
      "Saving to data_processed!\n"
     ]
    },
    {
     "name": "stderr",
     "output_type": "stream",
     "text": [
      " 75%|█████████████████████████████████████████████████████████████▌                    | 9/12 [27:20<08:29, 169.68s/it]"
     ]
    },
    {
     "name": "stdout",
     "output_type": "stream",
     "text": [
      "I'm doing dataprocessing with 2019-10 data\n",
      "Original length :  7213891\n",
      "After datetime processing :  7208369\n",
      "After passenger_count processing :  7024665\n",
      "After trip_distance processing :  6962055\n",
      "After fare_amount processing :  6944809\n",
      "After total_amount processing :  6944809\n",
      "After congestion_surcharge and airport_fee processing :  6944809\n",
      "After average_speed processing :  6517735\n",
      "Saving to data_processed!\n"
     ]
    },
    {
     "name": "stderr",
     "output_type": "stream",
     "text": [
      " 83%|███████████████████████████████████████████████████████████████████▌             | 10/12 [30:22<05:47, 173.65s/it]"
     ]
    },
    {
     "name": "stdout",
     "output_type": "stream",
     "text": [
      "I'm doing dataprocessing with 2019-11 data\n",
      "Original length :  6878111\n",
      "After datetime processing :  6871823\n",
      "After passenger_count processing :  6695062\n",
      "After trip_distance processing :  6634130\n",
      "After fare_amount processing :  6616116\n",
      "After total_amount processing :  6616116\n",
      "After congestion_surcharge and airport_fee processing :  6616116\n",
      "After average_speed processing :  6218294\n",
      "Saving to data_processed!\n"
     ]
    },
    {
     "name": "stderr",
     "output_type": "stream",
     "text": [
      " 92%|██████████████████████████████████████████████████████████████████████████▎      | 11/12 [33:17<02:54, 174.07s/it]"
     ]
    },
    {
     "name": "stdout",
     "output_type": "stream",
     "text": [
      "I'm doing dataprocessing with 2019-12 data\n",
      "Original length :  6896317\n",
      "After datetime processing :  6891155\n",
      "After passenger_count processing :  6715356\n",
      "After trip_distance processing :  6652284\n",
      "After fare_amount processing :  6632351\n",
      "After total_amount processing :  6632351\n",
      "After congestion_surcharge and airport_fee processing :  6632351\n",
      "After average_speed processing :  6254378\n",
      "Saving to data_processed!\n"
     ]
    },
    {
     "name": "stderr",
     "output_type": "stream",
     "text": [
      "100%|█████████████████████████████████████████████████████████████████████████████████| 12/12 [36:12<00:00, 181.01s/it]\n",
      "  0%|                                                                                           | 0/12 [00:00<?, ?it/s]"
     ]
    },
    {
     "name": "stdout",
     "output_type": "stream",
     "text": [
      "I'm doing dataprocessing with 2020-1 data\n",
      "Original length :  6405008\n",
      "After datetime processing :  6400390\n",
      "After passenger_count processing :  6221159\n",
      "After trip_distance processing :  6159531\n",
      "After fare_amount processing :  6141057\n",
      "After total_amount processing :  6141057\n",
      "After congestion_surcharge and airport_fee processing :  6141057\n",
      "After average_speed processing :  5717669\n",
      "Saving to data_processed!\n"
     ]
    },
    {
     "name": "stderr",
     "output_type": "stream",
     "text": [
      "  8%|██████▊                                                                           | 1/12 [02:41<29:34, 161.29s/it]"
     ]
    },
    {
     "name": "stdout",
     "output_type": "stream",
     "text": [
      "I'm doing dataprocessing with 2020-2 data\n",
      "Original length :  6299367\n",
      "After datetime processing :  6295089\n",
      "After passenger_count processing :  6123052\n",
      "After trip_distance processing :  6068349\n",
      "After fare_amount processing :  6049237\n",
      "After total_amount processing :  6049237\n",
      "After congestion_surcharge and airport_fee processing :  6049237\n",
      "After average_speed processing :  5655888\n",
      "Saving to data_processed!\n"
     ]
    },
    {
     "name": "stderr",
     "output_type": "stream",
     "text": [
      " 17%|█████████████▋                                                                    | 2/12 [05:21<26:45, 160.57s/it]"
     ]
    },
    {
     "name": "stdout",
     "output_type": "stream",
     "text": [
      "I'm doing dataprocessing with 2020-3 data\n",
      "Original length :  3007687\n",
      "After datetime processing :  3005130\n",
      "After passenger_count processing :  2904177\n",
      "After trip_distance processing :  2875649\n",
      "After fare_amount processing :  2865067\n",
      "After total_amount processing :  2865067\n",
      "After congestion_surcharge and airport_fee processing :  2865067\n",
      "After average_speed processing :  2687556\n",
      "Saving to data_processed!\n"
     ]
    },
    {
     "name": "stderr",
     "output_type": "stream",
     "text": [
      " 25%|████████████████████▌                                                             | 3/12 [06:37<18:17, 121.90s/it]"
     ]
    },
    {
     "name": "stdout",
     "output_type": "stream",
     "text": [
      "I'm doing dataprocessing with 2020-4 data\n",
      "Original length :  238073\n",
      "After datetime processing :  237626\n",
      "After passenger_count processing :  211574\n",
      "After trip_distance processing :  206400\n",
      "After fare_amount processing :  205182\n",
      "After total_amount processing :  205182\n",
      "After congestion_surcharge and airport_fee processing :  205182\n"
     ]
    },
    {
     "name": "stderr",
     "output_type": "stream",
     "text": [
      " 33%|███████████████████████████▋                                                       | 4/12 [06:42<10:07, 75.91s/it]"
     ]
    },
    {
     "name": "stdout",
     "output_type": "stream",
     "text": [
      "After average_speed processing :  197634\n",
      "Saving to data_processed!\n",
      "I'm doing dataprocessing with 2020-5 data\n",
      "Original length :  348415\n",
      "After datetime processing :  347762\n",
      "After passenger_count processing :  279582\n",
      "After trip_distance processing :  271013\n",
      "After fare_amount processing :  269642\n",
      "After total_amount processing :  269642\n",
      "After congestion_surcharge and airport_fee processing :  269642\n"
     ]
    },
    {
     "name": "stderr",
     "output_type": "stream",
     "text": [
      " 42%|██████████████████████████████████▌                                                | 5/12 [06:49<05:58, 51.15s/it]"
     ]
    },
    {
     "name": "stdout",
     "output_type": "stream",
     "text": [
      "After average_speed processing :  257788\n",
      "Saving to data_processed!\n",
      "I'm doing dataprocessing with 2020-6 data\n",
      "Original length :  549797\n",
      "After datetime processing :  549204\n",
      "After passenger_count processing :  485362\n",
      "After trip_distance processing :  470098\n",
      "After fare_amount processing :  467813\n",
      "After total_amount processing :  467813\n",
      "After congestion_surcharge and airport_fee processing :  467813\n",
      "After average_speed processing :  441810\n",
      "Saving to data_processed!\n"
     ]
    },
    {
     "name": "stderr",
     "output_type": "stream",
     "text": [
      " 50%|█████████████████████████████████████████▌                                         | 6/12 [07:02<03:48, 38.01s/it]"
     ]
    },
    {
     "name": "stdout",
     "output_type": "stream",
     "text": [
      "I'm doing dataprocessing with 2020-7 data\n",
      "Original length :  800412\n",
      "After datetime processing :  799509\n",
      "After passenger_count processing :  717422\n",
      "After trip_distance processing :  694937\n",
      "After fare_amount processing :  691618\n",
      "After total_amount processing :  691618\n",
      "After congestion_surcharge and airport_fee processing :  691618\n",
      "After average_speed processing :  652844\n",
      "Saving to data_processed!\n"
     ]
    },
    {
     "name": "stderr",
     "output_type": "stream",
     "text": [
      " 58%|████████████████████████████████████████████████▍                                  | 7/12 [07:20<02:37, 31.56s/it]"
     ]
    },
    {
     "name": "stdout",
     "output_type": "stream",
     "text": [
      "I'm doing dataprocessing with 2020-8 data\n",
      "Original length :  1007286\n",
      "After datetime processing :  1006434\n",
      "After passenger_count processing :  914003\n",
      "After trip_distance processing :  888636\n",
      "After fare_amount processing :  884226\n",
      "After total_amount processing :  884226\n",
      "After congestion_surcharge and airport_fee processing :  884226\n",
      "After average_speed processing :  831966\n",
      "Saving to data_processed!\n"
     ]
    },
    {
     "name": "stderr",
     "output_type": "stream",
     "text": [
      " 67%|███████████████████████████████████████████████████████▎                           | 8/12 [07:45<01:57, 29.46s/it]"
     ]
    },
    {
     "name": "stdout",
     "output_type": "stream",
     "text": [
      "I'm doing dataprocessing with 2020-9 data\n",
      "Original length :  1341017\n",
      "After datetime processing :  1336360\n",
      "After passenger_count processing :  1221767\n",
      "After trip_distance processing :  1201587\n",
      "After fare_amount processing :  1196093\n",
      "After total_amount processing :  1196093\n",
      "After congestion_surcharge and airport_fee processing :  1196093\n",
      "After average_speed processing :  1126227\n",
      "Saving to data_processed!\n"
     ]
    },
    {
     "name": "stderr",
     "output_type": "stream",
     "text": [
      " 75%|██████████████████████████████████████████████████████████████▎                    | 9/12 [08:17<01:30, 30.23s/it]"
     ]
    },
    {
     "name": "stdout",
     "output_type": "stream",
     "text": [
      "I'm doing dataprocessing with 2020-10 data\n",
      "Original length :  1681132\n",
      "After datetime processing :  1674584\n",
      "After passenger_count processing :  1541585\n",
      "After trip_distance processing :  1520257\n",
      "After fare_amount processing :  1513493\n",
      "After total_amount processing :  1513493\n",
      "After congestion_surcharge and airport_fee processing :  1513493\n",
      "After average_speed processing :  1424260\n",
      "Saving to data_processed!\n"
     ]
    },
    {
     "name": "stderr",
     "output_type": "stream",
     "text": [
      " 83%|████████████████████████████████████████████████████████████████████▎             | 10/12 [08:57<01:06, 33.27s/it]"
     ]
    },
    {
     "name": "stdout",
     "output_type": "stream",
     "text": [
      "I'm doing dataprocessing with 2020-11 data\n",
      "Original length :  1509000\n",
      "After datetime processing :  1502670\n",
      "After passenger_count processing :  1380204\n",
      "After trip_distance processing :  1363685\n",
      "After fare_amount processing :  1356983\n",
      "After total_amount processing :  1356983\n",
      "After congestion_surcharge and airport_fee processing :  1356983\n",
      "After average_speed processing :  1275136\n",
      "Saving to data_processed!\n"
     ]
    },
    {
     "name": "stderr",
     "output_type": "stream",
     "text": [
      " 92%|███████████████████████████████████████████████████████████████████████████▏      | 11/12 [09:33<00:33, 33.95s/it]"
     ]
    },
    {
     "name": "stdout",
     "output_type": "stream",
     "text": [
      "I'm doing dataprocessing with 2020-12 data\n",
      "Original length :  1461898\n",
      "After datetime processing :  1455478\n",
      "After passenger_count processing :  1333547\n",
      "After trip_distance processing :  1318790\n",
      "After fare_amount processing :  1311546\n",
      "After total_amount processing :  1311546\n",
      "After congestion_surcharge and airport_fee processing :  1311546\n",
      "After average_speed processing :  1228638\n",
      "Saving to data_processed!\n"
     ]
    },
    {
     "name": "stderr",
     "output_type": "stream",
     "text": [
      "100%|██████████████████████████████████████████████████████████████████████████████████| 12/12 [10:07<00:00, 50.60s/it]\n",
      "  0%|                                                                                           | 0/12 [00:00<?, ?it/s]"
     ]
    },
    {
     "name": "stdout",
     "output_type": "stream",
     "text": [
      "I'm doing dataprocessing with 2021-1 data\n",
      "Original length :  1369769\n",
      "After datetime processing :  1363188\n",
      "After passenger_count processing :  1243930\n",
      "After trip_distance processing :  1226282\n",
      "After fare_amount processing :  1220012\n",
      "After total_amount processing :  1220012\n",
      "After congestion_surcharge and airport_fee processing :  1220012\n",
      "After average_speed processing :  1135383\n",
      "Saving to data_processed!\n"
     ]
    },
    {
     "name": "stderr",
     "output_type": "stream",
     "text": [
      "  8%|██████▉                                                                            | 1/12 [00:31<05:48, 31.67s/it]"
     ]
    },
    {
     "name": "stdout",
     "output_type": "stream",
     "text": [
      "I'm doing dataprocessing with 2021-2 data\n",
      "Original length :  1371709\n",
      "After datetime processing :  1364529\n",
      "After passenger_count processing :  1246565\n",
      "After trip_distance processing :  1230436\n",
      "After fare_amount processing :  1224190\n",
      "After total_amount processing :  1224190\n",
      "After congestion_surcharge and airport_fee processing :  1224190\n",
      "After average_speed processing :  1147844\n",
      "Saving to data_processed!\n"
     ]
    },
    {
     "name": "stderr",
     "output_type": "stream",
     "text": [
      " 17%|█████████████▊                                                                     | 2/12 [01:03<05:16, 31.64s/it]"
     ]
    },
    {
     "name": "stdout",
     "output_type": "stream",
     "text": [
      "I'm doing dataprocessing with 2021-3 data\n",
      "Original length :  1925152\n",
      "After datetime processing :  1917578\n",
      "After passenger_count processing :  1756284\n",
      "After trip_distance processing :  1735528\n",
      "After fare_amount processing :  1727070\n",
      "After total_amount processing :  1727070\n",
      "After congestion_surcharge and airport_fee processing :  1727070\n",
      "After average_speed processing :  1616782\n",
      "Saving to data_processed!\n"
     ]
    },
    {
     "name": "stderr",
     "output_type": "stream",
     "text": [
      " 25%|████████████████████▊                                                              | 3/12 [01:48<05:40, 37.79s/it]"
     ]
    },
    {
     "name": "stdout",
     "output_type": "stream",
     "text": [
      "I'm doing dataprocessing with 2021-4 data\n",
      "Original length :  2171187\n",
      "After datetime processing :  2166785\n",
      "After passenger_count processing :  1999800\n",
      "After trip_distance processing :  1972113\n",
      "After fare_amount processing :  1963095\n",
      "After total_amount processing :  1963095\n",
      "After congestion_surcharge and airport_fee processing :  1963095\n",
      "After average_speed processing :  1837044\n",
      "Saving to data_processed!\n"
     ]
    },
    {
     "name": "stderr",
     "output_type": "stream",
     "text": [
      " 33%|███████████████████████████▋                                                       | 4/12 [02:40<05:47, 43.48s/it]"
     ]
    },
    {
     "name": "stdout",
     "output_type": "stream",
     "text": [
      "I'm doing dataprocessing with 2021-5 data\n",
      "Original length :  2507109\n",
      "After datetime processing :  2502363\n",
      "After passenger_count processing :  2328777\n",
      "After trip_distance processing :  2300789\n",
      "After fare_amount processing :  2290781\n",
      "After total_amount processing :  2290781\n",
      "After congestion_surcharge and airport_fee processing :  2290781\n",
      "After average_speed processing :  2145600\n",
      "Saving to data_processed!\n"
     ]
    },
    {
     "name": "stderr",
     "output_type": "stream",
     "text": [
      " 42%|██████████████████████████████████▌                                                | 5/12 [03:40<05:46, 49.57s/it]"
     ]
    },
    {
     "name": "stdout",
     "output_type": "stream",
     "text": [
      "I'm doing dataprocessing with 2021-6 data\n",
      "Original length :  2834264\n",
      "After datetime processing :  2829774\n",
      "After passenger_count processing :  2642063\n",
      "After trip_distance processing :  2614886\n",
      "After fare_amount processing :  2603445\n",
      "After total_amount processing :  2603445\n",
      "After congestion_surcharge and airport_fee processing :  2603445\n",
      "After average_speed processing :  2450302\n",
      "Saving to data_processed!\n"
     ]
    },
    {
     "name": "stderr",
     "output_type": "stream",
     "text": [
      " 50%|█████████████████████████████████████████▌                                         | 6/12 [04:49<05:35, 55.91s/it]"
     ]
    },
    {
     "name": "stdout",
     "output_type": "stream",
     "text": [
      "I'm doing dataprocessing with 2021-7 data\n",
      "Original length :  2821746\n",
      "After datetime processing :  2816878\n",
      "After passenger_count processing :  2621694\n",
      "After trip_distance processing :  2593259\n",
      "After fare_amount processing :  2581295\n",
      "After total_amount processing :  2581295\n",
      "After congestion_surcharge and airport_fee processing :  2581295\n",
      "After average_speed processing :  2414611\n",
      "Saving to data_processed!\n"
     ]
    },
    {
     "name": "stderr",
     "output_type": "stream",
     "text": [
      " 58%|████████████████████████████████████████████████▍                                  | 7/12 [05:56<04:57, 59.57s/it]"
     ]
    },
    {
     "name": "stdout",
     "output_type": "stream",
     "text": [
      "I'm doing dataprocessing with 2021-8 data\n",
      "Original length :  2788757\n",
      "After datetime processing :  2783188\n",
      "After passenger_count processing :  2577615\n",
      "After trip_distance processing :  2550621\n",
      "After fare_amount processing :  2539184\n",
      "After total_amount processing :  2539184\n",
      "After congestion_surcharge and airport_fee processing :  2539184\n",
      "After average_speed processing :  2372660\n",
      "Saving to data_processed!\n"
     ]
    },
    {
     "name": "stderr",
     "output_type": "stream",
     "text": [
      " 67%|███████████████████████████████████████████████████████▎                           | 8/12 [07:02<04:07, 61.80s/it]"
     ]
    },
    {
     "name": "stdout",
     "output_type": "stream",
     "text": [
      "I'm doing dataprocessing with 2021-9 data\n",
      "Original length :  2963793\n",
      "After datetime processing :  2958707\n",
      "After passenger_count processing :  2745496\n",
      "After trip_distance processing :  2703006\n",
      "After fare_amount processing :  2692233\n",
      "After total_amount processing :  2692233\n",
      "After congestion_surcharge and airport_fee processing :  2692233\n",
      "After average_speed processing :  2522396\n",
      "Saving to data_processed!\n"
     ]
    },
    {
     "name": "stderr",
     "output_type": "stream",
     "text": [
      " 75%|██████████████████████████████████████████████████████████████▎                    | 9/12 [08:13<03:13, 64.41s/it]"
     ]
    },
    {
     "name": "stdout",
     "output_type": "stream",
     "text": [
      "I'm doing dataprocessing with 2021-10 data\n",
      "Original length :  3463504\n",
      "After datetime processing :  3459460\n",
      "After passenger_count processing :  3238690\n",
      "After trip_distance processing :  3209204\n",
      "After fare_amount processing :  3196578\n",
      "After total_amount processing :  3196578\n",
      "After congestion_surcharge and airport_fee processing :  3196578\n",
      "After average_speed processing :  2990419\n",
      "Saving to data_processed!\n"
     ]
    },
    {
     "name": "stderr",
     "output_type": "stream",
     "text": [
      " 83%|████████████████████████████████████████████████████████████████████▎             | 10/12 [09:36<02:20, 70.32s/it]"
     ]
    },
    {
     "name": "stdout",
     "output_type": "stream",
     "text": [
      "I'm doing dataprocessing with 2021-11 data\n",
      "Original length :  3472949\n",
      "After datetime processing :  3469425\n",
      "After passenger_count processing :  3261727\n",
      "After trip_distance processing :  3232030\n",
      "After fare_amount processing :  3218556\n",
      "After total_amount processing :  3218556\n",
      "After congestion_surcharge and airport_fee processing :  3218556\n",
      "After average_speed processing :  3014022\n",
      "Saving to data_processed!\n"
     ]
    },
    {
     "name": "stderr",
     "output_type": "stream",
     "text": [
      " 92%|███████████████████████████████████████████████████████████████████████████▏      | 11/12 [11:00<01:14, 74.38s/it]"
     ]
    },
    {
     "name": "stdout",
     "output_type": "stream",
     "text": [
      "I'm doing dataprocessing with 2021-12 data\n",
      "Original length :  3214369\n",
      "After datetime processing :  3211484\n",
      "After passenger_count processing :  3038958\n",
      "After trip_distance processing :  3006460\n",
      "After fare_amount processing :  2991961\n",
      "After total_amount processing :  2991961\n",
      "After congestion_surcharge and airport_fee processing :  2991961\n",
      "After average_speed processing :  2795069\n",
      "Saving to data_processed!\n"
     ]
    },
    {
     "name": "stderr",
     "output_type": "stream",
     "text": [
      "100%|██████████████████████████████████████████████████████████████████████████████████| 12/12 [12:17<00:00, 61.48s/it]\n",
      "  0%|                                                                                           | 0/12 [00:00<?, ?it/s]"
     ]
    },
    {
     "name": "stdout",
     "output_type": "stream",
     "text": [
      "I'm doing dataprocessing with 2022-1 data\n",
      "Original length :  2463931\n",
      "After datetime processing :  2461430\n",
      "After passenger_count processing :  2339378\n",
      "After trip_distance processing :  2313468\n",
      "After fare_amount processing :  2301823\n",
      "After total_amount processing :  2301823\n",
      "After congestion_surcharge and airport_fee processing :  2301823\n",
      "After average_speed processing :  2116787\n",
      "Saving to data_processed!\n"
     ]
    },
    {
     "name": "stderr",
     "output_type": "stream",
     "text": [
      "  8%|██████▉                                                                            | 1/12 [01:00<11:03, 60.31s/it]"
     ]
    },
    {
     "name": "stdout",
     "output_type": "stream",
     "text": [
      "I'm doing dataprocessing with 2022-2 data\n",
      "Original length :  2979431\n",
      "After datetime processing :  2976591\n",
      "After passenger_count processing :  2814382\n",
      "After trip_distance processing :  2785786\n",
      "After fare_amount processing :  2771837\n",
      "After total_amount processing :  2771837\n",
      "After congestion_surcharge and airport_fee processing :  2771837\n",
      "After average_speed processing :  2580997\n",
      "Saving to data_processed!\n"
     ]
    },
    {
     "name": "stderr",
     "output_type": "stream",
     "text": [
      " 17%|█████████████▊                                                                     | 2/12 [02:11<11:09, 66.92s/it]"
     ]
    },
    {
     "name": "stdout",
     "output_type": "stream",
     "text": [
      "I'm doing dataprocessing with 2022-3 data\n",
      "Original length :  3627882\n",
      "After datetime processing :  3624606\n",
      "After passenger_count processing :  3434446\n",
      "After trip_distance processing :  3398120\n",
      "After fare_amount processing :  3380324\n",
      "After total_amount processing :  3380324\n",
      "After congestion_surcharge and airport_fee processing :  3380324\n",
      "After average_speed processing :  3148681\n",
      "Saving to data_processed!\n"
     ]
    },
    {
     "name": "stderr",
     "output_type": "stream",
     "text": [
      " 25%|████████████████████▊                                                              | 3/12 [03:39<11:27, 76.43s/it]"
     ]
    },
    {
     "name": "stdout",
     "output_type": "stream",
     "text": [
      "I'm doing dataprocessing with 2022-4 data\n",
      "Original length :  3599920\n",
      "After datetime processing :  3596534\n",
      "After passenger_count processing :  3407183\n",
      "After trip_distance processing :  3370957\n",
      "After fare_amount processing :  3353678\n",
      "After total_amount processing :  3353678\n",
      "After congestion_surcharge and airport_fee processing :  3353678\n",
      "After average_speed processing :  3133885\n",
      "Saving to data_processed!\n"
     ]
    },
    {
     "name": "stderr",
     "output_type": "stream",
     "text": [
      " 33%|███████████████████████████▋                                                       | 4/12 [05:06<10:45, 80.72s/it]"
     ]
    },
    {
     "name": "stdout",
     "output_type": "stream",
     "text": [
      "I'm doing dataprocessing with 2022-5 data\n",
      "Original length :  3588295\n",
      "After datetime processing :  3585122\n",
      "After passenger_count processing :  3383584\n",
      "After trip_distance processing :  3342221\n",
      "After fare_amount processing :  3324028\n",
      "After total_amount processing :  3324028\n",
      "After congestion_surcharge and airport_fee processing :  3324028\n",
      "After average_speed processing :  3113717\n",
      "Saving to data_processed!\n"
     ]
    },
    {
     "name": "stderr",
     "output_type": "stream",
     "text": [
      " 42%|██████████████████████████████████▌                                                | 5/12 [06:33<09:40, 82.97s/it]"
     ]
    },
    {
     "name": "stdout",
     "output_type": "stream",
     "text": [
      "I'm doing dataprocessing with 2022-6 data\n",
      "Original length :  3558124\n",
      "After datetime processing :  3554735\n",
      "After passenger_count processing :  3355023\n",
      "After trip_distance processing :  3309477\n",
      "After fare_amount processing :  3290063\n",
      "After total_amount processing :  3290063\n",
      "After congestion_surcharge and airport_fee processing :  3290063\n",
      "After average_speed processing :  3085989\n",
      "Saving to data_processed!\n"
     ]
    },
    {
     "name": "stderr",
     "output_type": "stream",
     "text": [
      " 50%|█████████████████████████████████████████▌                                         | 6/12 [07:59<08:23, 83.96s/it]"
     ]
    },
    {
     "name": "stdout",
     "output_type": "stream",
     "text": [
      "I'm doing dataprocessing with 2022-7 data\n",
      "Original length :  3174394\n",
      "After datetime processing :  3171361\n",
      "After passenger_count processing :  3004251\n",
      "After trip_distance processing :  2965766\n",
      "After fare_amount processing :  2946776\n",
      "After total_amount processing :  2946776\n",
      "After congestion_surcharge and airport_fee processing :  2946776\n",
      "After average_speed processing :  2753853\n",
      "Saving to data_processed!\n"
     ]
    },
    {
     "name": "stderr",
     "output_type": "stream",
     "text": [
      " 58%|████████████████████████████████████████████████▍                                  | 7/12 [09:15<06:47, 81.41s/it]"
     ]
    },
    {
     "name": "stdout",
     "output_type": "stream",
     "text": [
      "I'm doing dataprocessing with 2022-8 data\n",
      "Original length :  3152677\n",
      "After datetime processing :  3150197\n",
      "After passenger_count processing :  2997620\n",
      "After trip_distance processing :  2957849\n",
      "After fare_amount processing :  2937742\n",
      "After total_amount processing :  2937742\n",
      "After congestion_surcharge and airport_fee processing :  2937742\n",
      "After average_speed processing :  2750517\n",
      "Saving to data_processed!\n"
     ]
    },
    {
     "name": "stderr",
     "output_type": "stream",
     "text": [
      " 67%|███████████████████████████████████████████████████████▎                           | 8/12 [10:32<05:19, 79.91s/it]"
     ]
    },
    {
     "name": "stdout",
     "output_type": "stream",
     "text": [
      "I'm doing dataprocessing with 2022-9 data\n",
      "Original length :  3183767\n",
      "After datetime processing :  3182090\n",
      "After passenger_count processing :  3007271\n",
      "After trip_distance processing :  2963922\n",
      "After fare_amount processing :  2945065\n",
      "After total_amount processing :  2945065\n",
      "After congestion_surcharge and airport_fee processing :  2945065\n",
      "After average_speed processing :  2754532\n",
      "Saving to data_processed!\n"
     ]
    },
    {
     "name": "stderr",
     "output_type": "stream",
     "text": [
      " 75%|██████████████████████████████████████████████████████████████▎                    | 9/12 [11:49<03:56, 78.92s/it]"
     ]
    },
    {
     "name": "stdout",
     "output_type": "stream",
     "text": [
      "I'm doing dataprocessing with 2022-10 data\n",
      "Original length :  3675411\n",
      "After datetime processing :  3672428\n",
      "After passenger_count processing :  3470405\n",
      "After trip_distance processing :  3422080\n",
      "After fare_amount processing :  3399007\n",
      "After total_amount processing :  3399007\n",
      "After congestion_surcharge and airport_fee processing :  3399007\n",
      "After average_speed processing :  3163425\n",
      "Saving to data_processed!\n"
     ]
    },
    {
     "name": "stderr",
     "output_type": "stream",
     "text": [
      " 83%|████████████████████████████████████████████████████████████████████▎             | 10/12 [13:17<02:43, 81.79s/it]"
     ]
    },
    {
     "name": "stdout",
     "output_type": "stream",
     "text": [
      "I'm doing dataprocessing with 2022-11 data\n",
      "Original length :  3252717\n",
      "After datetime processing :  3249670\n",
      "After passenger_count processing :  3081423\n",
      "After trip_distance processing :  3040603\n",
      "After fare_amount processing :  3018824\n",
      "After total_amount processing :  3018824\n",
      "After congestion_surcharge and airport_fee processing :  3018824\n",
      "After average_speed processing :  2809211\n",
      "Saving to data_processed!\n"
     ]
    },
    {
     "name": "stderr",
     "output_type": "stream",
     "text": [
      " 92%|███████████████████████████████████████████████████████████████████████████▏      | 11/12 [14:37<01:21, 81.13s/it]"
     ]
    },
    {
     "name": "stdout",
     "output_type": "stream",
     "text": [
      "I'm doing dataprocessing with 2022-12 data\n",
      "Original length :  3399549\n",
      "After datetime processing :  3397836\n",
      "After passenger_count processing :  3211436\n",
      "After trip_distance processing :  3165018\n",
      "After fare_amount processing :  3140924\n",
      "After total_amount processing :  3140924\n",
      "After congestion_surcharge and airport_fee processing :  3140924\n",
      "After average_speed processing :  2933756\n",
      "Saving to data_processed!\n"
     ]
    },
    {
     "name": "stderr",
     "output_type": "stream",
     "text": [
      "100%|██████████████████████████████████████████████████████████████████████████████████| 12/12 [15:58<00:00, 79.89s/it]\n"
     ]
    }
   ],
   "source": [
    "for i in [2019,2020,2021,2022]:\n",
    "    for j in tqdm(range(1,13)):\n",
    "        if j>=10:\n",
    "            dataframe_yellow_cab = pd.read_parquet(\"D:/Working_Place/new_uber/data/yellow_tripdata_{}-{}.parquet\".format(i,j))\n",
    "        else:\n",
    "            dataframe_yellow_cab = pd.read_parquet(\"D:/Working_Place/new_uber/data/yellow_tripdata_{}-{}.parquet\".format(i,\"0\"+str(j)))\n",
    "        dataprocessing(dataframe_yellow_cab,i,j)\n",
    "        del dataframe_yellow_cab "
   ]
  },
  {
   "cell_type": "code",
   "execution_count": null,
   "id": "9ec43cf7-4813-47d2-afd1-6f4bd055bafc",
   "metadata": {},
   "outputs": [],
   "source": []
  }
 ],
 "metadata": {
  "kernelspec": {
   "display_name": "new_uber",
   "language": "python",
   "name": "new_uber"
  },
  "language_info": {
   "codemirror_mode": {
    "name": "ipython",
    "version": 3
   },
   "file_extension": ".py",
   "mimetype": "text/x-python",
   "name": "python",
   "nbconvert_exporter": "python",
   "pygments_lexer": "ipython3",
   "version": "3.7.1"
  }
 },
 "nbformat": 4,
 "nbformat_minor": 5
}
